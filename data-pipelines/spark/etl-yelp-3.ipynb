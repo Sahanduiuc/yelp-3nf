{
 "cells": [
  {
   "cell_type": "code",
   "execution_count": 120,
   "metadata": {},
   "outputs": [
    {
     "data": {
      "application/vnd.jupyter.widget-view+json": {
       "model_id": "009a26ad742c45ddadbcbb5d01c3c66a",
       "version_major": 2,
       "version_minor": 0
      },
      "text/plain": [
       "VBox()"
      ]
     },
     "metadata": {},
     "output_type": "display_data"
    }
   ],
   "source": [
    "from pyspark.sql import functions as F\n",
    "from pyspark.sql import types as T\n",
    "from pyspark.sql import Window, Row"
   ]
  },
  {
   "cell_type": "code",
   "execution_count": 2,
   "metadata": {},
   "outputs": [
    {
     "data": {
      "application/vnd.jupyter.widget-view+json": {
       "model_id": "f826dbd3eff540cc8cc6ae2192e4633f",
       "version_major": 2,
       "version_minor": 0
      },
      "text/plain": [
       "VBox()"
      ]
     },
     "metadata": {},
     "output_type": "display_data"
    }
   ],
   "source": [
    "# Source bucket\n",
    "s3_bucket = \"s3://polakowo-yelp2/\""
   ]
  },
  {
   "cell_type": "code",
   "execution_count": 3,
   "metadata": {},
   "outputs": [
    {
     "data": {
      "application/vnd.jupyter.widget-view+json": {
       "model_id": "7ba3eac730ad4eb7ab8bc3741c1e9fe2",
       "version_major": 2,
       "version_minor": 0
      },
      "text/plain": [
       "VBox()"
      ]
     },
     "metadata": {},
     "output_type": "display_data"
    }
   ],
   "source": [
    "# Source data paths: Yelp\n",
    "yelp_dir = s3_bucket + \"yelp_dataset/\"\n",
    "\n",
    "business_path = yelp_dir + \"business.json\"\n",
    "review_path = yelp_dir + \"review.json\"\n",
    "user_path = yelp_dir + \"user.json\"\n",
    "checkin_path = yelp_dir + \"checkin.json\"\n",
    "tip_path = yelp_dir + \"tip.json\"\n",
    "photo_path = yelp_dir + \"photo.json\""
   ]
  },
  {
   "cell_type": "code",
   "execution_count": 4,
   "metadata": {},
   "outputs": [
    {
     "data": {
      "application/vnd.jupyter.widget-view+json": {
       "model_id": "18dd26433964411b9b9e97237cd0bdc1",
       "version_major": 2,
       "version_minor": 0
      },
      "text/plain": [
       "VBox()"
      ]
     },
     "metadata": {},
     "output_type": "display_data"
    }
   ],
   "source": [
    "# Source data paths: Demographics\n",
    "demo_dir = s3_bucket + \"demo_dataset/\"\n",
    "\n",
    "demo_path = demo_dir + \"us-cities-demographics.json\""
   ]
  },
  {
   "cell_type": "code",
   "execution_count": 5,
   "metadata": {},
   "outputs": [
    {
     "data": {
      "application/vnd.jupyter.widget-view+json": {
       "model_id": "492be943f78f4d43bc3d395017906ddb",
       "version_major": 2,
       "version_minor": 0
      },
      "text/plain": [
       "VBox()"
      ]
     },
     "metadata": {},
     "output_type": "display_data"
    }
   ],
   "source": [
    "# Source data paths: Weather\n",
    "weather_dir = s3_bucket + \"weather_dataset/\"\n",
    "\n",
    "city_attr_path = weather_dir + \"city_attributes.csv\"\n",
    "weather_temp_path = weather_dir + \"temperature.csv\"\n",
    "weather_desc_path = weather_dir + \"weather_description.csv\""
   ]
  },
  {
   "cell_type": "code",
   "execution_count": 6,
   "metadata": {},
   "outputs": [
    {
     "data": {
      "application/vnd.jupyter.widget-view+json": {
       "model_id": "d5058b0d07b44f2c8334bfd2e644a01d",
       "version_major": 2,
       "version_minor": 0
      },
      "text/plain": [
       "VBox()"
      ]
     },
     "metadata": {},
     "output_type": "display_data"
    }
   ],
   "source": [
    "# Target data paths\n",
    "staging_dir = s3_bucket + \"staging_data/\"\n",
    "\n",
    "business_attributes_path = staging_dir + \"business_attributes\"\n",
    "cities_path = staging_dir + \"cities\"\n",
    "addresses_path = staging_dir + \"addresses\"\n",
    "categories_path = staging_dir + \"categories\"\n",
    "business_categories_path = staging_dir + \"business_categories\"\n",
    "hours_path = staging_dir + \"hours\"\n",
    "businesses_path = staging_dir + \"businesses\"\n",
    "reviews_path = staging_dir + \"reviews\"\n",
    "users_path = staging_dir + \"users\"\n",
    "elite_years_path = staging_dir + \"elite_years\"\n",
    "friends_path = staging_dir + \"friends\"\n",
    "checkins_path = staging_dir + \"checkins\"\n",
    "tips_path = staging_dir + \"tips\"\n",
    "photos_path = staging_dir + \"photos\"\n",
    "city_weather_path = staging_dir + \"city_weather\""
   ]
  },
  {
   "cell_type": "code",
   "execution_count": 7,
   "metadata": {},
   "outputs": [
    {
     "data": {
      "application/vnd.jupyter.widget-view+json": {
       "model_id": "9820ffecac074e48852dbec8cad896c6",
       "version_major": 2,
       "version_minor": 0
      },
      "text/plain": [
       "VBox()"
      ]
     },
     "metadata": {},
     "output_type": "display_data"
    }
   ],
   "source": [
    "def describe(df):\n",
    "    print(\"nulls:\", df.select([F.count(F.when(F.isnull(c), c)).alias(c) for c in df.columns]).collect())\n",
    "    print(\"count:\", df.count())\n",
    "    print(\"schema:\")\n",
    "    df.printSchema()\n",
    "    print(\"example:\", df.limit(1).collect())"
   ]
  },
  {
   "cell_type": "code",
   "execution_count": 8,
   "metadata": {},
   "outputs": [
    {
     "data": {
      "application/vnd.jupyter.widget-view+json": {
       "model_id": "80e2cfc2c8024dea811ffeac12184a33",
       "version_major": 2,
       "version_minor": 0
      },
      "text/plain": [
       "VBox()"
      ]
     },
     "metadata": {},
     "output_type": "display_data"
    }
   ],
   "source": [
    "def write_csv(df, path):\n",
    "    # For tables with standardized text fields\n",
    "    # CSV can be parsed and processed incrementally\n",
    "    df.write\\\n",
    "        .format('csv')\\\n",
    "        .option(\"header\", \"true\")\\\n",
    "        .option(\"delimiter\", \"\\t\")\\\n",
    "        .mode('overwrite')\\\n",
    "        .save(path)"
   ]
  },
  {
   "cell_type": "code",
   "execution_count": 9,
   "metadata": {},
   "outputs": [
    {
     "data": {
      "application/vnd.jupyter.widget-view+json": {
       "model_id": "c2314753338c4e33bba13f12371aba3c",
       "version_major": 2,
       "version_minor": 0
      },
      "text/plain": [
       "VBox()"
      ]
     },
     "metadata": {},
     "output_type": "display_data"
    }
   ],
   "source": [
    "def write_json(df, path, n_partitions):\n",
    "    # JSON files have to be parsed as a whole by Amazon Redshift\n",
    "    # Redshift accepts JSON files of max. 4MB size (-> smart partitioning)\n",
    "    # What you gain from using JSON is stricter string handling\n",
    "    df.repartition(n_partitions).write\\\n",
    "        .format('json')\\\n",
    "        .option(\"nullValue\", None)\\\n",
    "        .mode('overwrite')\\\n",
    "        .save(path)"
   ]
  },
  {
   "cell_type": "code",
   "execution_count": 10,
   "metadata": {},
   "outputs": [
    {
     "data": {
      "application/vnd.jupyter.widget-view+json": {
       "model_id": "699050f6c63e4b62b3bbf039d6f3c34f",
       "version_major": 2,
       "version_minor": 0
      },
      "text/plain": [
       "VBox()"
      ]
     },
     "metadata": {},
     "output_type": "display_data"
    }
   ],
   "source": [
    "def write_parquet(df, path):\n",
    "    # The main format for our output files, as it combines pros of CSV and JSON formats\n",
    "    df.write.parquet(path, mode=\"overwrite\")"
   ]
  },
  {
   "cell_type": "markdown",
   "metadata": {},
   "source": [
    "# business tables"
   ]
  },
  {
   "cell_type": "code",
   "execution_count": 11,
   "metadata": {},
   "outputs": [
    {
     "data": {
      "application/vnd.jupyter.widget-view+json": {
       "model_id": "2655bc92b39648a4a14da2910c5739ef",
       "version_major": 2,
       "version_minor": 0
      },
      "text/plain": [
       "VBox()"
      ]
     },
     "metadata": {},
     "output_type": "display_data"
    }
   ],
   "source": [
    "business_df = spark.read.json(business_path)"
   ]
  },
  {
   "cell_type": "code",
   "execution_count": 12,
   "metadata": {},
   "outputs": [
    {
     "data": {
      "application/vnd.jupyter.widget-view+json": {
       "model_id": "efa5fe93358c4b53a555ed00c41f77c5",
       "version_major": 2,
       "version_minor": 0
      },
      "text/plain": [
       "VBox()"
      ]
     },
     "metadata": {},
     "output_type": "display_data"
    },
    {
     "name": "stdout",
     "output_type": "stream",
     "text": [
      "nulls: [Row(address=0, attributes=28836, business_id=0, categories=482, city=0, hours=44830, is_open=0, latitude=0, longitude=0, name=0, postal_code=0, review_count=0, stars=0, state=0)]\n",
      "count: 192609\n",
      "schema:\n",
      "root\n",
      " |-- address: string (nullable = true)\n",
      " |-- attributes: struct (nullable = true)\n",
      " |    |-- AcceptsInsurance: string (nullable = true)\n",
      " |    |-- AgesAllowed: string (nullable = true)\n",
      " |    |-- Alcohol: string (nullable = true)\n",
      " |    |-- Ambience: string (nullable = true)\n",
      " |    |-- BYOB: string (nullable = true)\n",
      " |    |-- BYOBCorkage: string (nullable = true)\n",
      " |    |-- BestNights: string (nullable = true)\n",
      " |    |-- BikeParking: string (nullable = true)\n",
      " |    |-- BusinessAcceptsBitcoin: string (nullable = true)\n",
      " |    |-- BusinessAcceptsCreditCards: string (nullable = true)\n",
      " |    |-- BusinessParking: string (nullable = true)\n",
      " |    |-- ByAppointmentOnly: string (nullable = true)\n",
      " |    |-- Caters: string (nullable = true)\n",
      " |    |-- CoatCheck: string (nullable = true)\n",
      " |    |-- Corkage: string (nullable = true)\n",
      " |    |-- DietaryRestrictions: string (nullable = true)\n",
      " |    |-- DogsAllowed: string (nullable = true)\n",
      " |    |-- DriveThru: string (nullable = true)\n",
      " |    |-- GoodForDancing: string (nullable = true)\n",
      " |    |-- GoodForKids: string (nullable = true)\n",
      " |    |-- GoodForMeal: string (nullable = true)\n",
      " |    |-- HairSpecializesIn: string (nullable = true)\n",
      " |    |-- HappyHour: string (nullable = true)\n",
      " |    |-- HasTV: string (nullable = true)\n",
      " |    |-- Music: string (nullable = true)\n",
      " |    |-- NoiseLevel: string (nullable = true)\n",
      " |    |-- Open24Hours: string (nullable = true)\n",
      " |    |-- OutdoorSeating: string (nullable = true)\n",
      " |    |-- RestaurantsAttire: string (nullable = true)\n",
      " |    |-- RestaurantsCounterService: string (nullable = true)\n",
      " |    |-- RestaurantsDelivery: string (nullable = true)\n",
      " |    |-- RestaurantsGoodForGroups: string (nullable = true)\n",
      " |    |-- RestaurantsPriceRange2: string (nullable = true)\n",
      " |    |-- RestaurantsReservations: string (nullable = true)\n",
      " |    |-- RestaurantsTableService: string (nullable = true)\n",
      " |    |-- RestaurantsTakeOut: string (nullable = true)\n",
      " |    |-- Smoking: string (nullable = true)\n",
      " |    |-- WheelchairAccessible: string (nullable = true)\n",
      " |    |-- WiFi: string (nullable = true)\n",
      " |-- business_id: string (nullable = true)\n",
      " |-- categories: string (nullable = true)\n",
      " |-- city: string (nullable = true)\n",
      " |-- hours: struct (nullable = true)\n",
      " |    |-- Friday: string (nullable = true)\n",
      " |    |-- Monday: string (nullable = true)\n",
      " |    |-- Saturday: string (nullable = true)\n",
      " |    |-- Sunday: string (nullable = true)\n",
      " |    |-- Thursday: string (nullable = true)\n",
      " |    |-- Tuesday: string (nullable = true)\n",
      " |    |-- Wednesday: string (nullable = true)\n",
      " |-- is_open: long (nullable = true)\n",
      " |-- latitude: double (nullable = true)\n",
      " |-- longitude: double (nullable = true)\n",
      " |-- name: string (nullable = true)\n",
      " |-- postal_code: string (nullable = true)\n",
      " |-- review_count: long (nullable = true)\n",
      " |-- stars: double (nullable = true)\n",
      " |-- state: string (nullable = true)\n",
      "\n",
      "example: [Row(address='2818 E Camino Acequia Drive', attributes=Row(AcceptsInsurance=None, AgesAllowed=None, Alcohol=None, Ambience=None, BYOB=None, BYOBCorkage=None, BestNights=None, BikeParking=None, BusinessAcceptsBitcoin=None, BusinessAcceptsCreditCards=None, BusinessParking=None, ByAppointmentOnly=None, Caters=None, CoatCheck=None, Corkage=None, DietaryRestrictions=None, DogsAllowed=None, DriveThru=None, GoodForDancing=None, GoodForKids='False', GoodForMeal=None, HairSpecializesIn=None, HappyHour=None, HasTV=None, Music=None, NoiseLevel=None, Open24Hours=None, OutdoorSeating=None, RestaurantsAttire=None, RestaurantsCounterService=None, RestaurantsDelivery=None, RestaurantsGoodForGroups=None, RestaurantsPriceRange2=None, RestaurantsReservations=None, RestaurantsTableService=None, RestaurantsTakeOut=None, Smoking=None, WheelchairAccessible=None, WiFi=None), business_id='1SWheh84yJXfytovILXOAQ', categories='Golf, Active Life', city='Phoenix', hours=None, is_open=0, latitude=33.5221425, longitude=-112.0184807, name='Arizona Biltmore Golf Club', postal_code='85016', review_count=5, stars=3.0, state='AZ')]"
     ]
    }
   ],
   "source": [
    "describe(business_df)"
   ]
  },
  {
   "cell_type": "markdown",
   "metadata": {},
   "source": [
    "## business_attributes"
   ]
  },
  {
   "cell_type": "code",
   "execution_count": 13,
   "metadata": {},
   "outputs": [
    {
     "data": {
      "application/vnd.jupyter.widget-view+json": {
       "model_id": "15491fc306b1467db3a5a83b7c541129",
       "version_major": 2,
       "version_minor": 0
      },
      "text/plain": [
       "VBox()"
      ]
     },
     "metadata": {},
     "output_type": "display_data"
    }
   ],
   "source": [
    "business_attributes_df = business_df.select(\"business_id\", \"attributes.*\")"
   ]
  },
  {
   "cell_type": "code",
   "execution_count": 14,
   "metadata": {},
   "outputs": [
    {
     "data": {
      "application/vnd.jupyter.widget-view+json": {
       "model_id": "d59164993d15464c9aac03ac33880d11",
       "version_major": 2,
       "version_minor": 0
      },
      "text/plain": [
       "VBox()"
      ]
     },
     "metadata": {},
     "output_type": "display_data"
    }
   ],
   "source": [
    "def parse_boolean(x):\n",
    "    if x is None or x == 'None':\n",
    "        return None\n",
    "    if x == 'True':\n",
    "        return True\n",
    "    if x == 'False':\n",
    "        return False\n",
    "\n",
    "parse_boolean_udf = F.udf(parse_boolean, T.BooleanType())\n",
    "\n",
    "bool_attrs = [\n",
    "    \"AcceptsInsurance\",\n",
    "    \"BYOB\",\n",
    "    \"BikeParking\", \n",
    "    \"BusinessAcceptsBitcoin\", \n",
    "    \"BusinessAcceptsCreditCards\",\n",
    "    \"ByAppointmentOnly\", \n",
    "    \"Caters\", \n",
    "    \"CoatCheck\", \n",
    "    \"Corkage\", \n",
    "    \"DogsAllowed\",\n",
    "    \"DriveThru\", \n",
    "    \"GoodForDancing\", \n",
    "    \"GoodForKids\",\n",
    "    \"HappyHour\", \n",
    "    \"HasTV\",\n",
    "    \"Open24Hours\", \n",
    "    \"OutdoorSeating\", \n",
    "    \"RestaurantsCounterService\", \n",
    "    \"RestaurantsDelivery\", \n",
    "    \"RestaurantsGoodForGroups\", \n",
    "    \"RestaurantsReservations\", \n",
    "    \"RestaurantsTableService\", \n",
    "    \"RestaurantsTakeOut\",\n",
    "    \"WheelchairAccessible\"\n",
    "]\n",
    "\n",
    "for attr in bool_attrs:\n",
    "    business_attributes_df = business_attributes_df.withColumn(attr, parse_boolean_udf(attr))"
   ]
  },
  {
   "cell_type": "code",
   "execution_count": 15,
   "metadata": {},
   "outputs": [
    {
     "data": {
      "application/vnd.jupyter.widget-view+json": {
       "model_id": "e95f251379664d2c8ef1aa03e1991ed6",
       "version_major": 2,
       "version_minor": 0
      },
      "text/plain": [
       "VBox()"
      ]
     },
     "metadata": {},
     "output_type": "display_data"
    }
   ],
   "source": [
    "def parse_string(x):\n",
    "    if x is None or x == '':\n",
    "        return None\n",
    "    # Some strings are of format u\"u'string'\"\n",
    "    return x.replace(\"u'\", \"\").replace(\"'\", \"\").lower()\n",
    "    \n",
    "parse_string_udf = F.udf(parse_string, T.StringType())\n",
    "\n",
    "str_attrs = [\n",
    "    \"AgesAllowed\", \n",
    "    \"Alcohol\",\n",
    "    \"BYOBCorkage\",\n",
    "    \"NoiseLevel\",\n",
    "    \"RestaurantsAttire\",\n",
    "    \"Smoking\",\n",
    "    \"WiFi\",\n",
    "]\n",
    "\n",
    "for attr in str_attrs:\n",
    "    business_attributes_df = business_attributes_df.withColumn(attr, parse_string_udf(attr))"
   ]
  },
  {
   "cell_type": "code",
   "execution_count": 16,
   "metadata": {},
   "outputs": [
    {
     "data": {
      "application/vnd.jupyter.widget-view+json": {
       "model_id": "da0162b333d34f40a2ece8ed5b6c9501",
       "version_major": 2,
       "version_minor": 0
      },
      "text/plain": [
       "VBox()"
      ]
     },
     "metadata": {},
     "output_type": "display_data"
    }
   ],
   "source": [
    "def parse_integer(x):\n",
    "    if x is None or x == 'None':\n",
    "        return None\n",
    "    return int(x)\n",
    "    \n",
    "parse_integer_udf = F.udf(parse_integer, T.IntegerType())\n",
    "\n",
    "int_attrs = [\n",
    "    \"RestaurantsPriceRange2\",\n",
    "]\n",
    "\n",
    "for attr in int_attrs:\n",
    "    business_attributes_df = business_attributes_df.withColumn(attr, parse_integer_udf(attr))"
   ]
  },
  {
   "cell_type": "code",
   "execution_count": 17,
   "metadata": {
    "scrolled": true
   },
   "outputs": [
    {
     "data": {
      "application/vnd.jupyter.widget-view+json": {
       "model_id": "5330378fa7b44331b11b7b15c8c2a31b",
       "version_major": 2,
       "version_minor": 0
      },
      "text/plain": [
       "VBox()"
      ]
     },
     "metadata": {},
     "output_type": "display_data"
    }
   ],
   "source": [
    "import ast\n",
    "\n",
    "def parse_boolean_dict(x):\n",
    "    if x is None or x == 'None' or x == '':\n",
    "        return None\n",
    "    return ast.literal_eval(x)\n",
    "\n",
    "parse_boolean_dict_udf = F.udf(parse_boolean_dict, T.MapType(T.StringType(), T.BooleanType()))\n",
    "\n",
    "bool_dict_attrs = [\n",
    "    \"Ambience\",\n",
    "    \"BestNights\",\n",
    "    \"BusinessParking\",\n",
    "    \"DietaryRestrictions\",\n",
    "    \"GoodForMeal\",\n",
    "    \"HairSpecializesIn\",\n",
    "    \"Music\"\n",
    "]\n",
    "\n",
    "for attr in bool_dict_attrs:\n",
    "    business_attributes_df = business_attributes_df.withColumn(attr, parse_boolean_dict_udf(attr))\n",
    "    # Get all keys of the MapType\n",
    "    # [Row(key=u'romantic'), Row(key=u'casual'), ...\n",
    "    key_rows = business_attributes_df.select(F.explode(attr)).select(\"key\").distinct().collect()\n",
    "    # Convert each key into column (with proper name)\n",
    "    exprs = [\"{}['{}'] as {}\".format(attr, row.key, attr+\"_\"+row.key.replace('-', '_')) for row in key_rows]\n",
    "    business_attributes_df = business_attributes_df.selectExpr(\"*\", *exprs).drop(attr)"
   ]
  },
  {
   "cell_type": "code",
   "execution_count": 18,
   "metadata": {
    "scrolled": true
   },
   "outputs": [
    {
     "data": {
      "application/vnd.jupyter.widget-view+json": {
       "model_id": "259d816a15794093b574f90ce6cbfc89",
       "version_major": 2,
       "version_minor": 0
      },
      "text/plain": [
       "VBox()"
      ]
     },
     "metadata": {},
     "output_type": "display_data"
    },
    {
     "name": "stdout",
     "output_type": "stream",
     "text": [
      "nulls: [Row(business_id=0, AcceptsInsurance=185373, AgesAllowed=192486, Alcohol=144146, BYOB=192581, BYOBCorkage=191186, BikeParking=107398, BusinessAcceptsBitcoin=179526, BusinessAcceptsCreditCards=79590, ByAppointmentOnly=145880, Caters=152114, CoatCheck=189109, Corkage=191947, DogsAllowed=185213, DriveThru=189420, GoodForDancing=187872, GoodForKids=126362, HappyHour=187409, HasTV=144565, NoiseLevel=148730, Open24Hours=192596, OutdoorSeating=137854, RestaurantsAttire=143970, RestaurantsCounterService=192598, RestaurantsDelivery=140155, RestaurantsGoodForGroups=137933, RestaurantsPriceRange2=84527, RestaurantsReservations=140371, RestaurantsTableService=175465, RestaurantsTakeOut=130601, Smoking=189111, WheelchairAccessible=172696, WiFi=142545, Ambience_romantic=145072, Ambience_casual=145072, Ambience_trendy=145072, Ambience_intimate=145072, Ambience_hipster=145695, Ambience_upscale=145260, Ambience_divey=152636, Ambience_touristy=145072, Ambience_classy=145072, BestNights_sunday=189140, BestNights_thursday=189140, BestNights_monday=189140, BestNights_wednesday=189140, BestNights_saturday=189140, BestNights_friday=189140, BestNights_tuesday=189140, BusinessParking_valet=91169, BusinessParking_lot=91177, BusinessParking_validated=91180, BusinessParking_garage=91159, BusinessParking_street=91177, DietaryRestrictions_kosher=192557, DietaryRestrictions_dairy_free=192557, DietaryRestrictions_vegan=192557, DietaryRestrictions_vegetarian=192557, DietaryRestrictions_gluten_free=192557, DietaryRestrictions_soy_free=192557, DietaryRestrictions_halal=192557, GoodForMeal_lunch=162897, GoodForMeal_brunch=162895, GoodForMeal_dinner=162897, GoodForMeal_latenight=162897, GoodForMeal_dessert=162897, GoodForMeal_breakfast=162897, HairSpecializesIn_curly=191634, HairSpecializesIn_asian=191779, HairSpecializesIn_perms=191634, HairSpecializesIn_africanamerican=191779, HairSpecializesIn_straightperms=191779, HairSpecializesIn_kids=191634, HairSpecializesIn_coloring=191634, HairSpecializesIn_extensions=191634, Music_no_music=188653, Music_dj=187617, Music_live=188087, Music_karaoke=188128, Music_video=188126, Music_background_music=188131, Music_jukebox=188102)]\n",
      "count: 192609\n",
      "schema:\n",
      "root\n",
      " |-- business_id: string (nullable = true)\n",
      " |-- AcceptsInsurance: boolean (nullable = true)\n",
      " |-- AgesAllowed: string (nullable = true)\n",
      " |-- Alcohol: string (nullable = true)\n",
      " |-- BYOB: boolean (nullable = true)\n",
      " |-- BYOBCorkage: string (nullable = true)\n",
      " |-- BikeParking: boolean (nullable = true)\n",
      " |-- BusinessAcceptsBitcoin: boolean (nullable = true)\n",
      " |-- BusinessAcceptsCreditCards: boolean (nullable = true)\n",
      " |-- ByAppointmentOnly: boolean (nullable = true)\n",
      " |-- Caters: boolean (nullable = true)\n",
      " |-- CoatCheck: boolean (nullable = true)\n",
      " |-- Corkage: boolean (nullable = true)\n",
      " |-- DogsAllowed: boolean (nullable = true)\n",
      " |-- DriveThru: boolean (nullable = true)\n",
      " |-- GoodForDancing: boolean (nullable = true)\n",
      " |-- GoodForKids: boolean (nullable = true)\n",
      " |-- HappyHour: boolean (nullable = true)\n",
      " |-- HasTV: boolean (nullable = true)\n",
      " |-- NoiseLevel: string (nullable = true)\n",
      " |-- Open24Hours: boolean (nullable = true)\n",
      " |-- OutdoorSeating: boolean (nullable = true)\n",
      " |-- RestaurantsAttire: string (nullable = true)\n",
      " |-- RestaurantsCounterService: boolean (nullable = true)\n",
      " |-- RestaurantsDelivery: boolean (nullable = true)\n",
      " |-- RestaurantsGoodForGroups: boolean (nullable = true)\n",
      " |-- RestaurantsPriceRange2: integer (nullable = true)\n",
      " |-- RestaurantsReservations: boolean (nullable = true)\n",
      " |-- RestaurantsTableService: boolean (nullable = true)\n",
      " |-- RestaurantsTakeOut: boolean (nullable = true)\n",
      " |-- Smoking: string (nullable = true)\n",
      " |-- WheelchairAccessible: boolean (nullable = true)\n",
      " |-- WiFi: string (nullable = true)\n",
      " |-- Ambience_romantic: boolean (nullable = true)\n",
      " |-- Ambience_casual: boolean (nullable = true)\n",
      " |-- Ambience_trendy: boolean (nullable = true)\n",
      " |-- Ambience_intimate: boolean (nullable = true)\n",
      " |-- Ambience_hipster: boolean (nullable = true)\n",
      " |-- Ambience_upscale: boolean (nullable = true)\n",
      " |-- Ambience_divey: boolean (nullable = true)\n",
      " |-- Ambience_touristy: boolean (nullable = true)\n",
      " |-- Ambience_classy: boolean (nullable = true)\n",
      " |-- BestNights_sunday: boolean (nullable = true)\n",
      " |-- BestNights_thursday: boolean (nullable = true)\n",
      " |-- BestNights_monday: boolean (nullable = true)\n",
      " |-- BestNights_wednesday: boolean (nullable = true)\n",
      " |-- BestNights_saturday: boolean (nullable = true)\n",
      " |-- BestNights_friday: boolean (nullable = true)\n",
      " |-- BestNights_tuesday: boolean (nullable = true)\n",
      " |-- BusinessParking_valet: boolean (nullable = true)\n",
      " |-- BusinessParking_lot: boolean (nullable = true)\n",
      " |-- BusinessParking_validated: boolean (nullable = true)\n",
      " |-- BusinessParking_garage: boolean (nullable = true)\n",
      " |-- BusinessParking_street: boolean (nullable = true)\n",
      " |-- DietaryRestrictions_kosher: boolean (nullable = true)\n",
      " |-- DietaryRestrictions_dairy_free: boolean (nullable = true)\n",
      " |-- DietaryRestrictions_vegan: boolean (nullable = true)\n",
      " |-- DietaryRestrictions_vegetarian: boolean (nullable = true)\n",
      " |-- DietaryRestrictions_gluten_free: boolean (nullable = true)\n",
      " |-- DietaryRestrictions_soy_free: boolean (nullable = true)\n",
      " |-- DietaryRestrictions_halal: boolean (nullable = true)\n",
      " |-- GoodForMeal_lunch: boolean (nullable = true)\n",
      " |-- GoodForMeal_brunch: boolean (nullable = true)\n",
      " |-- GoodForMeal_dinner: boolean (nullable = true)\n",
      " |-- GoodForMeal_latenight: boolean (nullable = true)\n",
      " |-- GoodForMeal_dessert: boolean (nullable = true)\n",
      " |-- GoodForMeal_breakfast: boolean (nullable = true)\n",
      " |-- HairSpecializesIn_curly: boolean (nullable = true)\n",
      " |-- HairSpecializesIn_asian: boolean (nullable = true)\n",
      " |-- HairSpecializesIn_perms: boolean (nullable = true)\n",
      " |-- HairSpecializesIn_africanamerican: boolean (nullable = true)\n",
      " |-- HairSpecializesIn_straightperms: boolean (nullable = true)\n",
      " |-- HairSpecializesIn_kids: boolean (nullable = true)\n",
      " |-- HairSpecializesIn_coloring: boolean (nullable = true)\n",
      " |-- HairSpecializesIn_extensions: boolean (nullable = true)\n",
      " |-- Music_no_music: boolean (nullable = true)\n",
      " |-- Music_dj: boolean (nullable = true)\n",
      " |-- Music_live: boolean (nullable = true)\n",
      " |-- Music_karaoke: boolean (nullable = true)\n",
      " |-- Music_video: boolean (nullable = true)\n",
      " |-- Music_background_music: boolean (nullable = true)\n",
      " |-- Music_jukebox: boolean (nullable = true)\n",
      "\n",
      "example: [Row(business_id='1SWheh84yJXfytovILXOAQ', AcceptsInsurance=None, AgesAllowed=None, Alcohol=None, BYOB=None, BYOBCorkage=None, BikeParking=None, BusinessAcceptsBitcoin=None, BusinessAcceptsCreditCards=None, ByAppointmentOnly=None, Caters=None, CoatCheck=None, Corkage=None, DogsAllowed=None, DriveThru=None, GoodForDancing=None, GoodForKids=False, HappyHour=None, HasTV=None, NoiseLevel=None, Open24Hours=None, OutdoorSeating=None, RestaurantsAttire=None, RestaurantsCounterService=None, RestaurantsDelivery=None, RestaurantsGoodForGroups=None, RestaurantsPriceRange2=None, RestaurantsReservations=None, RestaurantsTableService=None, RestaurantsTakeOut=None, Smoking=None, WheelchairAccessible=None, WiFi=None, Ambience_romantic=None, Ambience_casual=None, Ambience_trendy=None, Ambience_intimate=None, Ambience_hipster=None, Ambience_upscale=None, Ambience_divey=None, Ambience_touristy=None, Ambience_classy=None, BestNights_sunday=None, BestNights_thursday=None, BestNights_monday=None, BestNights_wednesday=None, BestNights_saturday=None, BestNights_friday=None, BestNights_tuesday=None, BusinessParking_valet=None, BusinessParking_lot=None, BusinessParking_validated=None, BusinessParking_garage=None, BusinessParking_street=None, DietaryRestrictions_kosher=None, DietaryRestrictions_dairy_free=None, DietaryRestrictions_vegan=None, DietaryRestrictions_vegetarian=None, DietaryRestrictions_gluten_free=None, DietaryRestrictions_soy_free=None, DietaryRestrictions_halal=None, GoodForMeal_lunch=None, GoodForMeal_brunch=None, GoodForMeal_dinner=None, GoodForMeal_latenight=None, GoodForMeal_dessert=None, GoodForMeal_breakfast=None, HairSpecializesIn_curly=None, HairSpecializesIn_asian=None, HairSpecializesIn_perms=None, HairSpecializesIn_africanamerican=None, HairSpecializesIn_straightperms=None, HairSpecializesIn_kids=None, HairSpecializesIn_coloring=None, HairSpecializesIn_extensions=None, Music_no_music=None, Music_dj=None, Music_live=None, Music_karaoke=None, Music_video=None, Music_background_music=None, Music_jukebox=None)]"
     ]
    }
   ],
   "source": [
    "describe(business_attributes_df)"
   ]
  },
  {
   "cell_type": "code",
   "execution_count": 19,
   "metadata": {},
   "outputs": [
    {
     "data": {
      "application/vnd.jupyter.widget-view+json": {
       "model_id": "d699f47a3d4f4d2f9359bf5f809a4ee2",
       "version_major": 2,
       "version_minor": 0
      },
      "text/plain": [
       "VBox()"
      ]
     },
     "metadata": {},
     "output_type": "display_data"
    }
   ],
   "source": [
    "write_parquet(business_attributes_df, business_attributes_path)"
   ]
  },
  {
   "cell_type": "code",
   "execution_count": 20,
   "metadata": {},
   "outputs": [
    {
     "data": {
      "application/vnd.jupyter.widget-view+json": {
       "model_id": "c5f825bb22ba4b21bd100919115cad7c",
       "version_major": 2,
       "version_minor": 0
      },
      "text/plain": [
       "VBox()"
      ]
     },
     "metadata": {},
     "output_type": "display_data"
    },
    {
     "name": "stdout",
     "output_type": "stream",
     "text": [
      "Row(max(length(business_id))=22)\n",
      "Row(max(length(AgesAllowed))=7)\n",
      "Row(max(length(Alcohol))=13)\n",
      "Row(max(length(BYOBCorkage))=11)\n",
      "Row(max(length(NoiseLevel))=9)\n",
      "Row(max(length(RestaurantsAttire))=6)\n",
      "Row(max(length(Smoking))=7)\n",
      "Row(max(length(WiFi))=4)"
     ]
    }
   ],
   "source": [
    "# Check maximum length of each column (for Redshift)\n",
    "print(business_attributes_df.select(\"business_id\").agg(F.max(F.length(\"business_id\"))).first())\n",
    "print(business_attributes_df.select(\"AgesAllowed\").agg(F.max(F.length(\"AgesAllowed\"))).first())\n",
    "print(business_attributes_df.select(\"Alcohol\").agg(F.max(F.length(\"Alcohol\"))).first())\n",
    "print(business_attributes_df.select(\"BYOBCorkage\").agg(F.max(F.length(\"BYOBCorkage\"))).first())\n",
    "print(business_attributes_df.select(\"NoiseLevel\").agg(F.max(F.length(\"NoiseLevel\"))).first())\n",
    "print(business_attributes_df.select(\"RestaurantsAttire\").agg(F.max(F.length(\"RestaurantsAttire\"))).first())\n",
    "print(business_attributes_df.select(\"Smoking\").agg(F.max(F.length(\"Smoking\"))).first())\n",
    "print(business_attributes_df.select(\"WiFi\").agg(F.max(F.length(\"WiFi\"))).first())"
   ]
  },
  {
   "cell_type": "markdown",
   "metadata": {},
   "source": [
    "## demographics"
   ]
  },
  {
   "cell_type": "code",
   "execution_count": 21,
   "metadata": {},
   "outputs": [
    {
     "data": {
      "application/vnd.jupyter.widget-view+json": {
       "model_id": "4c68e637b7f04d7e86c7121a69262566",
       "version_major": 2,
       "version_minor": 0
      },
      "text/plain": [
       "VBox()"
      ]
     },
     "metadata": {},
     "output_type": "display_data"
    }
   ],
   "source": [
    "demo_df = spark.read.json(demo_path)"
   ]
  },
  {
   "cell_type": "code",
   "execution_count": 22,
   "metadata": {},
   "outputs": [
    {
     "data": {
      "application/vnd.jupyter.widget-view+json": {
       "model_id": "054a1eff8c2f42b59400faba55a6439c",
       "version_major": 2,
       "version_minor": 0
      },
      "text/plain": [
       "VBox()"
      ]
     },
     "metadata": {},
     "output_type": "display_data"
    },
    {
     "name": "stdout",
     "output_type": "stream",
     "text": [
      "nulls: [Row(datasetid=0, fields=0, record_timestamp=0, recordid=0)]\n",
      "count: 2891\n",
      "schema:\n",
      "root\n",
      " |-- datasetid: string (nullable = true)\n",
      " |-- fields: struct (nullable = true)\n",
      " |    |-- average_household_size: double (nullable = true)\n",
      " |    |-- city: string (nullable = true)\n",
      " |    |-- count: long (nullable = true)\n",
      " |    |-- female_population: long (nullable = true)\n",
      " |    |-- foreign_born: long (nullable = true)\n",
      " |    |-- male_population: long (nullable = true)\n",
      " |    |-- median_age: double (nullable = true)\n",
      " |    |-- number_of_veterans: long (nullable = true)\n",
      " |    |-- race: string (nullable = true)\n",
      " |    |-- state: string (nullable = true)\n",
      " |    |-- state_code: string (nullable = true)\n",
      " |    |-- total_population: long (nullable = true)\n",
      " |-- record_timestamp: string (nullable = true)\n",
      " |-- recordid: string (nullable = true)\n",
      "\n",
      "example: [Row(datasetid='us-cities-demographics', fields=Row(average_household_size=2.73, city='Newark', count=76402, female_population=143873, foreign_born=86253, male_population=138040, median_age=34.6, number_of_veterans=5829, race='White', state='New Jersey', state_code='NJ', total_population=281913), record_timestamp='1970-01-01T01:00:00+01:00', recordid='85458783ecf5da6572ee00e7120f68eff4fd0d61')]"
     ]
    }
   ],
   "source": [
    "describe(demo_df)"
   ]
  },
  {
   "cell_type": "code",
   "execution_count": 23,
   "metadata": {},
   "outputs": [
    {
     "data": {
      "application/vnd.jupyter.widget-view+json": {
       "model_id": "6756801a518642938339f94867e46dea",
       "version_major": 2,
       "version_minor": 0
      },
      "text/plain": [
       "VBox()"
      ]
     },
     "metadata": {},
     "output_type": "display_data"
    }
   ],
   "source": [
    "def prepare_race(x):\n",
    "    return x.replace(\" \", \"_\").replace(\"-\", \"_\").lower()\n",
    "    \n",
    "prepare_race_udf = F.udf(prepare_race, T.StringType())\n",
    "\n",
    "demo_df = demo_df.select(\"fields.*\")\\\n",
    "    .withColumn(\"race\", prepare_race_udf(\"race\"))\n",
    "demo_df = demo_df.groupby(*set(demo_df.schema.names).difference(set([\"race\", \"count\"])))\\\n",
    "    .pivot('race')\\\n",
    "    .max('count')"
   ]
  },
  {
   "cell_type": "code",
   "execution_count": 24,
   "metadata": {},
   "outputs": [
    {
     "data": {
      "application/vnd.jupyter.widget-view+json": {
       "model_id": "fd54fad4e6194217951f4eff916a0ebb",
       "version_major": 2,
       "version_minor": 0
      },
      "text/plain": [
       "VBox()"
      ]
     },
     "metadata": {},
     "output_type": "display_data"
    },
    {
     "name": "stdout",
     "output_type": "stream",
     "text": [
      "nulls: [Row(state_code=0, city=0, number_of_veterans=7, male_population=1, state=0, median_age=0, total_population=0, foreign_born=7, female_population=1, average_household_size=8, american_indian_and_alaska_native=57, asian=13, black_or_african_american=12, hispanic_or_latino=0, white=7)]\n",
      "count: 596\n",
      "schema:\n",
      "root\n",
      " |-- state_code: string (nullable = true)\n",
      " |-- city: string (nullable = true)\n",
      " |-- number_of_veterans: long (nullable = true)\n",
      " |-- male_population: long (nullable = true)\n",
      " |-- state: string (nullable = true)\n",
      " |-- median_age: double (nullable = true)\n",
      " |-- total_population: long (nullable = true)\n",
      " |-- foreign_born: long (nullable = true)\n",
      " |-- female_population: long (nullable = true)\n",
      " |-- average_household_size: double (nullable = true)\n",
      " |-- american_indian_and_alaska_native: long (nullable = true)\n",
      " |-- asian: long (nullable = true)\n",
      " |-- black_or_african_american: long (nullable = true)\n",
      " |-- hispanic_or_latino: long (nullable = true)\n",
      " |-- white: long (nullable = true)\n",
      "\n",
      "example: [Row(state_code='MI', city='Flint', number_of_veterans=3757, male_population=48984, state='Michigan', median_age=35.3, total_population=98297, foreign_born=2138, female_population=49313, average_household_size=2.38, american_indian_and_alaska_native=1508, asian=657, black_or_african_american=55137, hispanic_or_latino=2525, white=44786)]"
     ]
    }
   ],
   "source": [
    "describe(demo_df)"
   ]
  },
  {
   "cell_type": "markdown",
   "metadata": {},
   "source": [
    "## cities"
   ]
  },
  {
   "cell_type": "code",
   "execution_count": 37,
   "metadata": {},
   "outputs": [
    {
     "data": {
      "application/vnd.jupyter.widget-view+json": {
       "model_id": "6e8b3eea4d9c474fbc9ef6fc7cc0a3e1",
       "version_major": 2,
       "version_minor": 0
      },
      "text/plain": [
       "VBox()"
      ]
     },
     "metadata": {},
     "output_type": "display_data"
    }
   ],
   "source": [
    "cities_df = business_df.selectExpr(\"city\", \"state as state_code\")\\\n",
    "    .distinct()\\\n",
    "    .join(demo_df, [\"city\", \"state_code\"], how=\"left\")\\\n",
    "    .withColumn(\"city_id\", F.monotonically_increasing_id())"
   ]
  },
  {
   "cell_type": "code",
   "execution_count": 38,
   "metadata": {},
   "outputs": [
    {
     "data": {
      "application/vnd.jupyter.widget-view+json": {
       "model_id": "1accab39d0b14b7f920f478dd60feb0d",
       "version_major": 2,
       "version_minor": 0
      },
      "text/plain": [
       "VBox()"
      ]
     },
     "metadata": {},
     "output_type": "display_data"
    },
    {
     "name": "stdout",
     "output_type": "stream",
     "text": [
      "nulls: [Row(city=0, state_code=0, number_of_veterans=1210, male_population=1210, state=1210, median_age=1210, total_population=1210, foreign_born=1210, female_population=1210, average_household_size=1210, american_indian_and_alaska_native=1211, asian=1210, black_or_african_american=1210, hispanic_or_latino=1210, white=1210, city_id=0)]\n",
      "count: 1258\n",
      "schema:\n",
      "root\n",
      " |-- city: string (nullable = true)\n",
      " |-- state_code: string (nullable = true)\n",
      " |-- number_of_veterans: long (nullable = true)\n",
      " |-- male_population: long (nullable = true)\n",
      " |-- state: string (nullable = true)\n",
      " |-- median_age: double (nullable = true)\n",
      " |-- total_population: long (nullable = true)\n",
      " |-- foreign_born: long (nullable = true)\n",
      " |-- female_population: long (nullable = true)\n",
      " |-- average_household_size: double (nullable = true)\n",
      " |-- american_indian_and_alaska_native: long (nullable = true)\n",
      " |-- asian: long (nullable = true)\n",
      " |-- black_or_african_american: long (nullable = true)\n",
      " |-- hispanic_or_latino: long (nullable = true)\n",
      " |-- white: long (nullable = true)\n",
      " |-- city_id: long (nullable = false)\n",
      "\n",
      "example: [Row(city='Mesa', state_code='AZ', number_of_veterans=31808, male_population=234998, state='Arizona', median_age=36.9, total_population=471833, foreign_born=57492, female_population=236835, average_household_size=2.68, american_indian_and_alaska_native=16044, asian=14608, black_or_african_american=22699, hispanic_or_latino=131425, white=413010, city_id=0)]"
     ]
    }
   ],
   "source": [
    "describe(cities_df)"
   ]
  },
  {
   "cell_type": "code",
   "execution_count": 39,
   "metadata": {},
   "outputs": [
    {
     "data": {
      "application/vnd.jupyter.widget-view+json": {
       "model_id": "4da3329b2acb4a1a93505343c1f7a7f1",
       "version_major": 2,
       "version_minor": 0
      },
      "text/plain": [
       "VBox()"
      ]
     },
     "metadata": {},
     "output_type": "display_data"
    }
   ],
   "source": [
    "write_parquet(cities_df, cities_path)"
   ]
  },
  {
   "cell_type": "code",
   "execution_count": 40,
   "metadata": {},
   "outputs": [
    {
     "data": {
      "application/vnd.jupyter.widget-view+json": {
       "model_id": "06f9033abd044c36b5366994cdab5ea1",
       "version_major": 2,
       "version_minor": 0
      },
      "text/plain": [
       "VBox()"
      ]
     },
     "metadata": {},
     "output_type": "display_data"
    },
    {
     "name": "stdout",
     "output_type": "stream",
     "text": [
      "Row(max(length(city))=50)\n",
      "Row(max(length(state_code))=3)\n",
      "Row(max(length(state))=14)"
     ]
    }
   ],
   "source": [
    "print(cities_df.select(\"city\").agg(F.max(F.length(\"city\"))).first())\n",
    "print(cities_df.select(\"state_code\").agg(F.max(F.length(\"state_code\"))).first())\n",
    "print(cities_df.select(\"state\").agg(F.max(F.length(\"state\"))).first())"
   ]
  },
  {
   "cell_type": "markdown",
   "metadata": {},
   "source": [
    "## addresses"
   ]
  },
  {
   "cell_type": "code",
   "execution_count": 42,
   "metadata": {},
   "outputs": [
    {
     "data": {
      "application/vnd.jupyter.widget-view+json": {
       "model_id": "4e0437102d8644738d128b373bd3aa06",
       "version_major": 2,
       "version_minor": 0
      },
      "text/plain": [
       "VBox()"
      ]
     },
     "metadata": {},
     "output_type": "display_data"
    }
   ],
   "source": [
    "addresses_df = business_df.selectExpr(\"address\", \"latitude\", \"longitude\", \"postal_code\", \"city\", \"state as state_code\")\\\n",
    "    .join(cities_df.select(\"city\", \"state_code\", \"city_id\"), [\"city\", \"state_code\"], how='left')\\\n",
    "    .drop(\"city\", \"state_code\")\\\n",
    "    .distinct()\\\n",
    "    .withColumn(\"address_id\", F.monotonically_increasing_id())"
   ]
  },
  {
   "cell_type": "code",
   "execution_count": 43,
   "metadata": {},
   "outputs": [
    {
     "data": {
      "application/vnd.jupyter.widget-view+json": {
       "model_id": "287c421d52914e5f877248fad266cccb",
       "version_major": 2,
       "version_minor": 0
      },
      "text/plain": [
       "VBox()"
      ]
     },
     "metadata": {},
     "output_type": "display_data"
    },
    {
     "name": "stdout",
     "output_type": "stream",
     "text": [
      "nulls: [Row(address=0, latitude=0, longitude=0, postal_code=0, city_id=0, address_id=0)]\n",
      "count: 178763\n",
      "schema:\n",
      "root\n",
      " |-- address: string (nullable = true)\n",
      " |-- latitude: double (nullable = true)\n",
      " |-- longitude: double (nullable = true)\n",
      " |-- postal_code: string (nullable = true)\n",
      " |-- city_id: long (nullable = true)\n",
      " |-- address_id: long (nullable = false)\n",
      "\n",
      "example: [Row(address='3495 Lawrence Ave E', latitude=43.757291, longitude=-79.2293784, postal_code='M1H 1B2', city_id=8589934592, address_id=0)]"
     ]
    }
   ],
   "source": [
    "describe(addresses_df)"
   ]
  },
  {
   "cell_type": "code",
   "execution_count": 44,
   "metadata": {
    "scrolled": true
   },
   "outputs": [
    {
     "data": {
      "application/vnd.jupyter.widget-view+json": {
       "model_id": "d87a3c22e4c24e0f90440f6ffa2eac63",
       "version_major": 2,
       "version_minor": 0
      },
      "text/plain": [
       "VBox()"
      ]
     },
     "metadata": {},
     "output_type": "display_data"
    }
   ],
   "source": [
    "write_parquet(addresses_df, addresses_path)"
   ]
  },
  {
   "cell_type": "code",
   "execution_count": 45,
   "metadata": {},
   "outputs": [
    {
     "data": {
      "application/vnd.jupyter.widget-view+json": {
       "model_id": "b05450afe06c4c80b0390130c14c10a5",
       "version_major": 2,
       "version_minor": 0
      },
      "text/plain": [
       "VBox()"
      ]
     },
     "metadata": {},
     "output_type": "display_data"
    },
    {
     "name": "stdout",
     "output_type": "stream",
     "text": [
      "Row(max(length(address))=118)\n",
      "Row(max(length(postal_code))=8)"
     ]
    }
   ],
   "source": [
    "print(addresses_df.select(\"address\").agg(F.max(F.length(\"address\"))).first())\n",
    "print(addresses_df.select(\"postal_code\").agg(F.max(F.length(\"postal_code\"))).first())"
   ]
  },
  {
   "cell_type": "markdown",
   "metadata": {},
   "source": [
    "## categories"
   ]
  },
  {
   "cell_type": "code",
   "execution_count": 46,
   "metadata": {},
   "outputs": [
    {
     "data": {
      "application/vnd.jupyter.widget-view+json": {
       "model_id": "1d65a99b06634c1da2ff5c90bf5bb8c9",
       "version_major": 2,
       "version_minor": 0
      },
      "text/plain": [
       "VBox()"
      ]
     },
     "metadata": {},
     "output_type": "display_data"
    }
   ],
   "source": [
    "import re\n",
    "def parse_categories(categories):\n",
    "    if categories is None:\n",
    "        return []\n",
    "    parsed = []\n",
    "    # Some strings contain commas, so they have to be extracted beforehand\n",
    "    require_attention = set([\"Wills, Trusts, & Probates\"])\n",
    "    for s in require_attention:\n",
    "        if categories.find(s) > -1:\n",
    "            parsed.append(s)\n",
    "            categories = categories.replace(s, \"\")\n",
    "    return list(filter(None, parsed + re.split(r\",\\s*\", categories)))\n",
    "    \n",
    "parse_categories_udf = F.udf(parse_categories, T.ArrayType(T.StringType()))\n",
    "business_categories_df = business_df.select(\"business_id\", \"categories\")\\\n",
    "    .withColumn(\"categories\", parse_categories_udf(\"categories\"))"
   ]
  },
  {
   "cell_type": "code",
   "execution_count": 47,
   "metadata": {},
   "outputs": [
    {
     "data": {
      "application/vnd.jupyter.widget-view+json": {
       "model_id": "f682641ed1854d908a45a789f9858f9c",
       "version_major": 2,
       "version_minor": 0
      },
      "text/plain": [
       "VBox()"
      ]
     },
     "metadata": {},
     "output_type": "display_data"
    }
   ],
   "source": [
    "categories_df = business_categories_df.select(F.explode(\"categories\").alias(\"category\"))\\\n",
    "    .dropDuplicates()\\\n",
    "    .sort(\"category\")\\\n",
    "    .withColumn(\"category_id\", F.monotonically_increasing_id())"
   ]
  },
  {
   "cell_type": "code",
   "execution_count": 48,
   "metadata": {},
   "outputs": [
    {
     "data": {
      "application/vnd.jupyter.widget-view+json": {
       "model_id": "8d964d4a24524f148d1d7f1f735fdcfb",
       "version_major": 2,
       "version_minor": 0
      },
      "text/plain": [
       "VBox()"
      ]
     },
     "metadata": {},
     "output_type": "display_data"
    },
    {
     "name": "stdout",
     "output_type": "stream",
     "text": [
      "nulls: [Row(category=0, category_id=0)]\n",
      "count: 1298\n",
      "schema:\n",
      "root\n",
      " |-- category: string (nullable = true)\n",
      " |-- category_id: long (nullable = false)\n",
      "\n",
      "example: [Row(category='3D Printing', category_id=0)]"
     ]
    }
   ],
   "source": [
    "describe(categories_df)"
   ]
  },
  {
   "cell_type": "code",
   "execution_count": 49,
   "metadata": {},
   "outputs": [
    {
     "data": {
      "application/vnd.jupyter.widget-view+json": {
       "model_id": "e0bfb0fe93ae405586e92214b30a6ed8",
       "version_major": 2,
       "version_minor": 0
      },
      "text/plain": [
       "VBox()"
      ]
     },
     "metadata": {},
     "output_type": "display_data"
    }
   ],
   "source": [
    "write_parquet(categories_df, categories_path)"
   ]
  },
  {
   "cell_type": "code",
   "execution_count": 50,
   "metadata": {},
   "outputs": [
    {
     "data": {
      "application/vnd.jupyter.widget-view+json": {
       "model_id": "6e8d085a6e6a49bbb0991dc3377cd7c0",
       "version_major": 2,
       "version_minor": 0
      },
      "text/plain": [
       "VBox()"
      ]
     },
     "metadata": {},
     "output_type": "display_data"
    },
    {
     "name": "stdout",
     "output_type": "stream",
     "text": [
      "Row(max(length(category))=35)"
     ]
    }
   ],
   "source": [
    "print(categories_df.select(\"category\").agg(F.max(F.length(\"category\"))).first())"
   ]
  },
  {
   "cell_type": "markdown",
   "metadata": {},
   "source": [
    "## business_categories"
   ]
  },
  {
   "cell_type": "code",
   "execution_count": 51,
   "metadata": {},
   "outputs": [
    {
     "data": {
      "application/vnd.jupyter.widget-view+json": {
       "model_id": "2fdc6980a56c4617a223bb90c4f74c48",
       "version_major": 2,
       "version_minor": 0
      },
      "text/plain": [
       "VBox()"
      ]
     },
     "metadata": {},
     "output_type": "display_data"
    }
   ],
   "source": [
    "import re\n",
    "def zip_categories(business_id, categories):\n",
    "    return list(zip([business_id] * len(categories), categories))\n",
    "    \n",
    "zip_categories_udf = F.udf(zip_categories, T.ArrayType(T.ArrayType(T.StringType())))\n",
    "\n",
    "business_categories_df = business_categories_df.select(F.explode(zip_categories_udf(\"business_id\", \"categories\")).alias(\"cols\"))\\\n",
    "    .selectExpr(\"cols[0] as business_id\", \"cols[1] as category\")\\\n",
    "    .dropDuplicates()\n",
    "business_categories_df = business_categories_df.join(categories_df, business_categories_df[\"category\"] == categories_df[\"category\"], how=\"left\")\\\n",
    "    .drop(\"category\")"
   ]
  },
  {
   "cell_type": "code",
   "execution_count": 52,
   "metadata": {},
   "outputs": [
    {
     "data": {
      "application/vnd.jupyter.widget-view+json": {
       "model_id": "1d3f6db6fcee4802847588010d2562a8",
       "version_major": 2,
       "version_minor": 0
      },
      "text/plain": [
       "VBox()"
      ]
     },
     "metadata": {},
     "output_type": "display_data"
    },
    {
     "name": "stdout",
     "output_type": "stream",
     "text": [
      "nulls: [Row(business_id=0, category_id=0)]\n",
      "count: 788110\n",
      "schema:\n",
      "root\n",
      " |-- business_id: string (nullable = true)\n",
      " |-- category_id: long (nullable = true)\n",
      "\n",
      "example: [Row(business_id='LB6ZyCfUzeX9OLdunHhnOQ', category_id=747324309510)]"
     ]
    }
   ],
   "source": [
    "describe(business_categories_df)"
   ]
  },
  {
   "cell_type": "code",
   "execution_count": 53,
   "metadata": {},
   "outputs": [
    {
     "data": {
      "application/vnd.jupyter.widget-view+json": {
       "model_id": "e3e62f0cbda54decb6431fe599037dfd",
       "version_major": 2,
       "version_minor": 0
      },
      "text/plain": [
       "VBox()"
      ]
     },
     "metadata": {},
     "output_type": "display_data"
    }
   ],
   "source": [
    "write_parquet(business_categories_df, business_categories_path)"
   ]
  },
  {
   "cell_type": "markdown",
   "metadata": {},
   "source": [
    "## hours"
   ]
  },
  {
   "cell_type": "code",
   "execution_count": 54,
   "metadata": {},
   "outputs": [
    {
     "data": {
      "application/vnd.jupyter.widget-view+json": {
       "model_id": "e0025fb6f28544e8ac2604ecf4c7dbf2",
       "version_major": 2,
       "version_minor": 0
      },
      "text/plain": [
       "VBox()"
      ]
     },
     "metadata": {},
     "output_type": "display_data"
    }
   ],
   "source": [
    "hours_df = business_df.select(\"business_id\", \"hours.*\")"
   ]
  },
  {
   "cell_type": "code",
   "execution_count": 55,
   "metadata": {},
   "outputs": [
    {
     "data": {
      "application/vnd.jupyter.widget-view+json": {
       "model_id": "5566790258254137b3e3ae04f93fbd33",
       "version_major": 2,
       "version_minor": 0
      },
      "text/plain": [
       "VBox()"
      ]
     },
     "metadata": {},
     "output_type": "display_data"
    }
   ],
   "source": [
    "def parse_hours(x):\n",
    "    if x is None:\n",
    "        return None\n",
    "    # Transform 8:30 to 830\n",
    "    convert_to_int = lambda x: int(x.split(':')[0]) * 100 + int(x.split(':')[1])\n",
    "    return {\n",
    "        \"from\": convert_to_int(x.split('-')[0]),\n",
    "        \"to\": convert_to_int(x.split('-')[1])\n",
    "    }\n",
    "    \n",
    "parse_hours_udf = F.udf(parse_hours, T.StructType([\n",
    "    T.StructField('from', T.IntegerType(), nullable=True),\n",
    "    T.StructField('to', T.IntegerType(), nullable=True)\n",
    "]))\n",
    "\n",
    "hour_attrs = [\n",
    "    \"Monday\",\n",
    "    \"Tuesday\",\n",
    "    \"Wednesday\",\n",
    "    \"Thursday\",\n",
    "    \"Friday\",\n",
    "    \"Saturday\",\n",
    "    \"Sunday\",\n",
    "]\n",
    "\n",
    "for attr in hour_attrs:\n",
    "    hours_df = hours_df.withColumn(attr, parse_hours_udf(attr))\\\n",
    "        .selectExpr(\"*\", attr+\".from as \"+attr+\"_from\", attr+\".to as \"+attr+\"_to\")\\\n",
    "        .drop(attr)"
   ]
  },
  {
   "cell_type": "code",
   "execution_count": 56,
   "metadata": {},
   "outputs": [
    {
     "data": {
      "application/vnd.jupyter.widget-view+json": {
       "model_id": "017a1e7fb05a4b55ba3867b1577e1d4d",
       "version_major": 2,
       "version_minor": 0
      },
      "text/plain": [
       "VBox()"
      ]
     },
     "metadata": {},
     "output_type": "display_data"
    },
    {
     "name": "stdout",
     "output_type": "stream",
     "text": [
      "nulls: [Row(business_id=0, Monday_from=56842, Monday_to=56842, Tuesday_from=49181, Tuesday_to=49181, Wednesday_from=47452, Wednesday_to=47452, Thursday_from=46706, Thursday_to=46706, Friday_from=47435, Friday_to=47435, Saturday_from=66748, Saturday_to=66748, Sunday_from=101273, Sunday_to=101273)]\n",
      "count: 192609\n",
      "schema:\n",
      "root\n",
      " |-- business_id: string (nullable = true)\n",
      " |-- Monday_from: integer (nullable = true)\n",
      " |-- Monday_to: integer (nullable = true)\n",
      " |-- Tuesday_from: integer (nullable = true)\n",
      " |-- Tuesday_to: integer (nullable = true)\n",
      " |-- Wednesday_from: integer (nullable = true)\n",
      " |-- Wednesday_to: integer (nullable = true)\n",
      " |-- Thursday_from: integer (nullable = true)\n",
      " |-- Thursday_to: integer (nullable = true)\n",
      " |-- Friday_from: integer (nullable = true)\n",
      " |-- Friday_to: integer (nullable = true)\n",
      " |-- Saturday_from: integer (nullable = true)\n",
      " |-- Saturday_to: integer (nullable = true)\n",
      " |-- Sunday_from: integer (nullable = true)\n",
      " |-- Sunday_to: integer (nullable = true)\n",
      "\n",
      "example: [Row(business_id='1SWheh84yJXfytovILXOAQ', Monday_from=None, Monday_to=None, Tuesday_from=None, Tuesday_to=None, Wednesday_from=None, Wednesday_to=None, Thursday_from=None, Thursday_to=None, Friday_from=None, Friday_to=None, Saturday_from=None, Saturday_to=None, Sunday_from=None, Sunday_to=None)]"
     ]
    }
   ],
   "source": [
    "describe(hours_df)"
   ]
  },
  {
   "cell_type": "code",
   "execution_count": 57,
   "metadata": {},
   "outputs": [
    {
     "data": {
      "application/vnd.jupyter.widget-view+json": {
       "model_id": "d0138d0a27564bef9e2d443e35b87ba6",
       "version_major": 2,
       "version_minor": 0
      },
      "text/plain": [
       "VBox()"
      ]
     },
     "metadata": {},
     "output_type": "display_data"
    }
   ],
   "source": [
    "write_parquet(hours_df, hours_path)"
   ]
  },
  {
   "cell_type": "markdown",
   "metadata": {},
   "source": [
    "## businesses"
   ]
  },
  {
   "cell_type": "code",
   "execution_count": 58,
   "metadata": {},
   "outputs": [
    {
     "data": {
      "application/vnd.jupyter.widget-view+json": {
       "model_id": "e057f54c39c34c26b68fba155e965f27",
       "version_major": 2,
       "version_minor": 0
      },
      "text/plain": [
       "VBox()"
      ]
     },
     "metadata": {},
     "output_type": "display_data"
    }
   ],
   "source": [
    "# Remove quotes which cause errors in Amazon Redshift COPY statement\n",
    "businesses_df = business_df.join(addresses_df, (business_df[\"address\"] == addresses_df[\"address\"]) \n",
    "                 & (business_df[\"latitude\"] == addresses_df[\"latitude\"]) \n",
    "                 & (business_df[\"longitude\"] == addresses_df[\"longitude\"])\n",
    "                 & (business_df[\"postal_code\"] == addresses_df[\"postal_code\"]), how=\"left\")\\\n",
    "    .selectExpr(\"business_id\", \"address_id\", \"cast(is_open as boolean)\", \"name\", \"review_count\", \"stars\")"
   ]
  },
  {
   "cell_type": "code",
   "execution_count": 59,
   "metadata": {},
   "outputs": [
    {
     "data": {
      "application/vnd.jupyter.widget-view+json": {
       "model_id": "797aea0c676c42b0aabab9a943d3a7e6",
       "version_major": 2,
       "version_minor": 0
      },
      "text/plain": [
       "VBox()"
      ]
     },
     "metadata": {},
     "output_type": "display_data"
    },
    {
     "name": "stdout",
     "output_type": "stream",
     "text": [
      "nulls: [Row(business_id=0, address_id=0, is_open=0, name=0, review_count=0, stars=0)]\n",
      "count: 196728\n",
      "schema:\n",
      "root\n",
      " |-- business_id: string (nullable = true)\n",
      " |-- address_id: long (nullable = true)\n",
      " |-- is_open: boolean (nullable = true)\n",
      " |-- name: string (nullable = true)\n",
      " |-- review_count: long (nullable = true)\n",
      " |-- stars: double (nullable = true)\n",
      "\n",
      "example: [Row(business_id='nn8RDkUz0cWLcEhuga4f7Q', address_id=1271310319798, is_open=True, name='Handy AZ Man', review_count=19, stars=4.5)]"
     ]
    }
   ],
   "source": [
    "describe(businesses_df)"
   ]
  },
  {
   "cell_type": "code",
   "execution_count": 60,
   "metadata": {},
   "outputs": [
    {
     "data": {
      "application/vnd.jupyter.widget-view+json": {
       "model_id": "e3e9f575b6664919b0784887b1305aa3",
       "version_major": 2,
       "version_minor": 0
      },
      "text/plain": [
       "VBox()"
      ]
     },
     "metadata": {},
     "output_type": "display_data"
    }
   ],
   "source": [
    "write_parquet(businesses_df, businesses_path)"
   ]
  },
  {
   "cell_type": "markdown",
   "metadata": {},
   "source": [
    "# review tables"
   ]
  },
  {
   "cell_type": "code",
   "execution_count": 61,
   "metadata": {
    "scrolled": true
   },
   "outputs": [
    {
     "data": {
      "application/vnd.jupyter.widget-view+json": {
       "model_id": "678e73c23d154d94b2525dd3624aa0b1",
       "version_major": 2,
       "version_minor": 0
      },
      "text/plain": [
       "VBox()"
      ]
     },
     "metadata": {},
     "output_type": "display_data"
    }
   ],
   "source": [
    "review_df = spark.read.json(review_path)"
   ]
  },
  {
   "cell_type": "code",
   "execution_count": 62,
   "metadata": {},
   "outputs": [
    {
     "data": {
      "application/vnd.jupyter.widget-view+json": {
       "model_id": "f4433abc98584d6fbace8ec6f31e8386",
       "version_major": 2,
       "version_minor": 0
      },
      "text/plain": [
       "VBox()"
      ]
     },
     "metadata": {},
     "output_type": "display_data"
    },
    {
     "name": "stdout",
     "output_type": "stream",
     "text": [
      "nulls: [Row(business_id=0, cool=0, date=0, funny=0, review_id=0, stars=0, text=0, useful=0, user_id=0)]\n",
      "count: 6685900\n",
      "schema:\n",
      "root\n",
      " |-- business_id: string (nullable = true)\n",
      " |-- cool: long (nullable = true)\n",
      " |-- date: string (nullable = true)\n",
      " |-- funny: long (nullable = true)\n",
      " |-- review_id: string (nullable = true)\n",
      " |-- stars: double (nullable = true)\n",
      " |-- text: string (nullable = true)\n",
      " |-- useful: long (nullable = true)\n",
      " |-- user_id: string (nullable = true)\n",
      "\n",
      "example: [Row(business_id='ujmEBvifdJM6h6RLv4wQIg', cool=0, date='2013-05-07 04:34:36', funny=1, review_id='Q1sbwvVQXV2734tPgoKj4Q', stars=1.0, text='Total bill for this horrible service? Over $8Gs. These crooks actually had the nerve to charge us $69 for 3 pills. I checked online the pills can be had for 19 cents EACH! Avoid Hospital ERs at all costs.', useful=6, user_id='hG7b0MtEbXx5QzbzE6C_VA')]"
     ]
    }
   ],
   "source": [
    "describe(review_df)"
   ]
  },
  {
   "cell_type": "markdown",
   "metadata": {},
   "source": [
    "## reviews"
   ]
  },
  {
   "cell_type": "code",
   "execution_count": 152,
   "metadata": {},
   "outputs": [
    {
     "data": {
      "application/vnd.jupyter.widget-view+json": {
       "model_id": "d10696e4af8940d3ae0d3ceb8ac116ec",
       "version_major": 2,
       "version_minor": 0
      },
      "text/plain": [
       "VBox()"
      ]
     },
     "metadata": {},
     "output_type": "display_data"
    }
   ],
   "source": [
    "# date field looks more like timestamp\n",
    "# Long text is hard to insert into CSV so omit\n",
    "reviews_df = review_df.withColumnRenamed(\"date\", \"ts\")\\\n",
    "    .withColumn(\"ts\", F.to_timestamp(\"ts\"))"
   ]
  },
  {
   "cell_type": "code",
   "execution_count": 153,
   "metadata": {},
   "outputs": [
    {
     "data": {
      "application/vnd.jupyter.widget-view+json": {
       "model_id": "c3e4fbdb725c4dde997642593f6ce86f",
       "version_major": 2,
       "version_minor": 0
      },
      "text/plain": [
       "VBox()"
      ]
     },
     "metadata": {},
     "output_type": "display_data"
    },
    {
     "name": "stdout",
     "output_type": "stream",
     "text": [
      "nulls: [Row(business_id=0, cool=0, ts=0, funny=0, review_id=0, stars=0, text=0, useful=0, user_id=0)]\n",
      "count: 6685900\n",
      "schema:\n",
      "root\n",
      " |-- business_id: string (nullable = true)\n",
      " |-- cool: long (nullable = true)\n",
      " |-- ts: timestamp (nullable = true)\n",
      " |-- funny: long (nullable = true)\n",
      " |-- review_id: string (nullable = true)\n",
      " |-- stars: double (nullable = true)\n",
      " |-- text: string (nullable = true)\n",
      " |-- useful: long (nullable = true)\n",
      " |-- user_id: string (nullable = true)\n",
      "\n",
      "example: [Row(business_id='ujmEBvifdJM6h6RLv4wQIg', cool=0, ts=datetime.datetime(2013, 5, 7, 4, 34, 36), funny=1, review_id='Q1sbwvVQXV2734tPgoKj4Q', stars=1.0, text='Total bill for this horrible service? Over $8Gs. These crooks actually had the nerve to charge us $69 for 3 pills. I checked online the pills can be had for 19 cents EACH! Avoid Hospital ERs at all costs.', useful=6, user_id='hG7b0MtEbXx5QzbzE6C_VA')]"
     ]
    }
   ],
   "source": [
    "describe(reviews_df)"
   ]
  },
  {
   "cell_type": "code",
   "execution_count": 154,
   "metadata": {},
   "outputs": [
    {
     "data": {
      "application/vnd.jupyter.widget-view+json": {
       "model_id": "7f778277121440a185cbfc7e7fec3c7e",
       "version_major": 2,
       "version_minor": 0
      },
      "text/plain": [
       "VBox()"
      ]
     },
     "metadata": {},
     "output_type": "display_data"
    }
   ],
   "source": [
    "write_parquet(reviews_df, reviews_path)"
   ]
  },
  {
   "cell_type": "code",
   "execution_count": 66,
   "metadata": {},
   "outputs": [
    {
     "data": {
      "application/vnd.jupyter.widget-view+json": {
       "model_id": "a923b14de3904e3b8e9f2e20d9b26d20",
       "version_major": 2,
       "version_minor": 0
      },
      "text/plain": [
       "VBox()"
      ]
     },
     "metadata": {},
     "output_type": "display_data"
    },
    {
     "name": "stdout",
     "output_type": "stream",
     "text": [
      "Row(max(length(text))=5000)"
     ]
    }
   ],
   "source": [
    "print(reviews_df.select(\"text\").agg(F.max(F.length(\"text\"))).first())\n",
    "# and multiply by 4 to get the amount of bytes a column in Redshift should allocate"
   ]
  },
  {
   "cell_type": "markdown",
   "metadata": {},
   "source": [
    "# user tables"
   ]
  },
  {
   "cell_type": "code",
   "execution_count": 67,
   "metadata": {},
   "outputs": [
    {
     "data": {
      "application/vnd.jupyter.widget-view+json": {
       "model_id": "c307aea861cc4b079ed4eaaf83b15d11",
       "version_major": 2,
       "version_minor": 0
      },
      "text/plain": [
       "VBox()"
      ]
     },
     "metadata": {},
     "output_type": "display_data"
    }
   ],
   "source": [
    "user_df = spark.read.json(user_path)"
   ]
  },
  {
   "cell_type": "code",
   "execution_count": 68,
   "metadata": {},
   "outputs": [
    {
     "data": {
      "application/vnd.jupyter.widget-view+json": {
       "model_id": "f4e6c37ee6b841fb9b32fa322b50417b",
       "version_major": 2,
       "version_minor": 0
      },
      "text/plain": [
       "VBox()"
      ]
     },
     "metadata": {},
     "output_type": "display_data"
    },
    {
     "name": "stdout",
     "output_type": "stream",
     "text": [
      "nulls: [Row(average_stars=0, compliment_cool=0, compliment_cute=0, compliment_funny=0, compliment_hot=0, compliment_list=0, compliment_more=0, compliment_note=0, compliment_photos=0, compliment_plain=0, compliment_profile=0, compliment_writer=0, cool=0, elite=0, fans=0, friends=0, funny=0, name=0, review_count=0, useful=0, user_id=0, yelping_since=0)]\n",
      "count: 1637138\n",
      "schema:\n",
      "root\n",
      " |-- average_stars: double (nullable = true)\n",
      " |-- compliment_cool: long (nullable = true)\n",
      " |-- compliment_cute: long (nullable = true)\n",
      " |-- compliment_funny: long (nullable = true)\n",
      " |-- compliment_hot: long (nullable = true)\n",
      " |-- compliment_list: long (nullable = true)\n",
      " |-- compliment_more: long (nullable = true)\n",
      " |-- compliment_note: long (nullable = true)\n",
      " |-- compliment_photos: long (nullable = true)\n",
      " |-- compliment_plain: long (nullable = true)\n",
      " |-- compliment_profile: long (nullable = true)\n",
      " |-- compliment_writer: long (nullable = true)\n",
      " |-- cool: long (nullable = true)\n",
      " |-- elite: string (nullable = true)\n",
      " |-- fans: long (nullable = true)\n",
      " |-- friends: string (nullable = true)\n",
      " |-- funny: long (nullable = true)\n",
      " |-- name: string (nullable = true)\n",
      " |-- review_count: long (nullable = true)\n",
      " |-- useful: long (nullable = true)\n",
      " |-- user_id: string (nullable = true)\n",
      " |-- yelping_since: string (nullable = true)\n",
      "\n",
      "example: [Row(average_stars=4.03, compliment_cool=1, compliment_cute=0, compliment_funny=1, compliment_hot=2, compliment_list=0, compliment_more=0, compliment_note=1, compliment_photos=0, compliment_plain=1, compliment_profile=0, compliment_writer=2, cool=25, elite='2015,2016,2017', fans=5, friends='c78V-rj8NQcQjOI8KP3UEA, alRMgPcngYSCJ5naFRBz5g, ajcnq75Z5xxkvUSmmJ1bCg, BSMAmp2-wMzCkhTfq9ToNg, jka10dk9ygX76hJG0gfPZQ, dut0e4xvme7QSlesOycHQA, l4l5lBnK356zBua7B-UJ6Q, 0HicMOOs-M_gl2eO-zES4Q, _uI57wL2fLyftrcSFpfSGQ, T4_Qd0YWbC3co6WSMw4vxg, iBRoLWPtWmsI1kdbE9ORSA, xjrUcid6Ymq0DoTJELkYyw, GqadWVzJ6At-vgLzK_SKgA, DvB13VJBmSnbFXBVBsKmDA, vRP9nQkYTeNioDjtxZlVhg, gT0A1iN3eeQ8EMAjJhwQtw, 6yCWjFPtp_AD4x93WAwmnw, 1dKzpNnib-JlViKv8_Gt5g, 3Bv4_JxHXq-gVLOxYMQX0Q, ikQyfu1iViYh8T0us7wiFQ, f1GGltNaB7K5DR1jf3dOmg, tgeFUChlh7v8bZFVl2-hjQ, -9-9oyXlqsMG2he5xIWdLQ, Adj9fBPVJad8vSs-mIP7gw, Ce49RY8CKXVsTifxRYFTsw, M1_7TLi8CbdA89nFLlH4iw, wFsNv-hqbW_F5-IRqfBN6g, 0Q1L7zXHocaUZ2gsG2XJeg, cBFgmOCBdhYa0xoFEAzp_g, VrD_AgiFvzqtlR15vir3SQ, cpE-7HK514Sr5vpSen9CEQ, F1UYelhPFB-zIKlt0ygIZg, CQAL1hvsLMCzuJf9AglsXw, 1KnY1wr15WfEWIRLB9IS6g, QWFQ-kXBiLbid-lm5Jr3dQ, nymT8liFugCrM16lTy0ZfQ, qj69bdd885heDvUPCyHd2Q, DySCZZcgbdrlHgEovk5y9w, lZMJIDuvhT9Dy4KyquLXyA, b_9Gn7wS93AoPZPR0dIJqQ, N07g1IaLh0_6sUjtiSRe4w, YdfPX_7DxSnKvvdCJ57iOw, 8GYryZPD22W7WgQ8kvMkEQ, cpQmAgOWatghp14h1pn1dQ, EnchhymLYMqftCRjqvVWmw, -JdfKhFktE7Zs9BMDFcPeQ, uWhC9eof98zPkvsalgaqJw, eyTlNDDaiPatfe6mheIZ0g, VfHq0o73aKsODvfAhwAQtg, kvD5tICngLAaQDujSFWupA, dXacwEhqi9-3_XT6JeH0Og, NfU0zDaTMEQ4-X9dbQWd9A, cTHWBdjSKbctSUIvWsgFxw, 3IEtCbSDF5t7RkZ20T6s9A, HJJXTrp6UybYyPdQ9DA0JA, JaXogQFVjzGRAeBvzamBHg, NUonfKkjS1iVqnNITtgXZg, D5vaJAYp0sOrGfsj9qvsMA, H27Ecbwwu4FGAlLgICourw, S8HrLmMiE4u8FWYWkNEoTw, Io36Y3xWQcIX9rYvPcYfXQ, J5mcqh8KxYpqjaLBNlwcig, -nTB3_08g06fD0GT8AtDBQ, wMpFA46lihK8oFns_5p65A, RZGFJHeomGJCWp3xcL3ejA, ZoQSzzXoSP1RxOD4Amv9Bg, qzM0EB0SkuuGIFv0adjQAQ, HuM6vvuveken-fPZ7d4olA, H3oukHpGpn9n_mJwSDSQyQ, PkmsJsQ8FIZe8eh8c_u96g, wSByVbwME4MzgkJaFyfvNg, YEVqknoDmrHAoUbHX0nPnA, li3vsK1XAPmeJYAUTYflHQ, MKc8yXi0glbPYt0Qb4PECw, fQPH6W9fksi27gkuUPnFaA, amrCMrDsoRetYFg2kwwdFA, 84dVQ6n6r2ezNaTuc7RkKA, yW9QjWY0olv5-uRKv3t_Kw, 5XJDj7c3eoidfQ3jW18Zgw, txSc6a6pIDctvwyBeu7Aqg, HFbbDCyyqP9xPkUlcxeIdg, hTUv5oh2do6Z3OppPuuiJA, gSqonG9J4fNM-fl_fE71AA, pd9mgTFpBTg5F9x-MsczNg, j3VE22V2GcHiH8UZxfFLfw, NYXlMW-T-3V4Jqr4r-i0Wg, btxgAZedxX8IWhMifA7Xkg, -Hp5mPLiRJNFnyeX5Ygzag, P6-DwVg6-t2JuQwIUEk0iQ, OI2TvxYvZrAodBG_RF53Xw, bHxf_VPKmZur1Bier-6A2A, Et_Sb39cVm81_Xe9HDM8ZQ, 5HwGl2UyYbaRq8aD6YC-fA, ZK228WMcCKLo5thcjD7rdw, iTf8wojwfm0NOi7dOiz3Nw, btYRxQYNJjpecflNHtFH0A, Kgo42FzpW_dXFgDKoewbtg, MNk_1Q_dqOY3xxHZKeO8VQ, AlwD504T9k0m5lkg3k5g6Q', funny=17, name='Rashmi', review_count=95, useful=84, user_id='l6BmjZMeQD3rDxWUbiAiow', yelping_since='2013-10-08 23:11:33')]"
     ]
    }
   ],
   "source": [
    "describe(user_df)"
   ]
  },
  {
   "cell_type": "markdown",
   "metadata": {},
   "source": [
    "## users"
   ]
  },
  {
   "cell_type": "code",
   "execution_count": 155,
   "metadata": {},
   "outputs": [
    {
     "data": {
      "application/vnd.jupyter.widget-view+json": {
       "model_id": "1c8a939c8ce24c779c88e2cd0f0a02d9",
       "version_major": 2,
       "version_minor": 0
      },
      "text/plain": [
       "VBox()"
      ]
     },
     "metadata": {},
     "output_type": "display_data"
    }
   ],
   "source": [
    "users_df = user_df.drop(\"elite\", \"friends\")\\\n",
    "    .withColumn(\"yelping_since\", F.to_timestamp(\"yelping_since\"))"
   ]
  },
  {
   "cell_type": "code",
   "execution_count": 156,
   "metadata": {},
   "outputs": [
    {
     "data": {
      "application/vnd.jupyter.widget-view+json": {
       "model_id": "5f93a1c9d6d84427a4c9b686e1792382",
       "version_major": 2,
       "version_minor": 0
      },
      "text/plain": [
       "VBox()"
      ]
     },
     "metadata": {},
     "output_type": "display_data"
    },
    {
     "name": "stdout",
     "output_type": "stream",
     "text": [
      "nulls: [Row(average_stars=0, compliment_cool=0, compliment_cute=0, compliment_funny=0, compliment_hot=0, compliment_list=0, compliment_more=0, compliment_note=0, compliment_photos=0, compliment_plain=0, compliment_profile=0, compliment_writer=0, cool=0, fans=0, funny=0, name=0, review_count=0, useful=0, user_id=0, yelping_since=0)]\n",
      "count: 1637138\n",
      "schema:\n",
      "root\n",
      " |-- average_stars: double (nullable = true)\n",
      " |-- compliment_cool: long (nullable = true)\n",
      " |-- compliment_cute: long (nullable = true)\n",
      " |-- compliment_funny: long (nullable = true)\n",
      " |-- compliment_hot: long (nullable = true)\n",
      " |-- compliment_list: long (nullable = true)\n",
      " |-- compliment_more: long (nullable = true)\n",
      " |-- compliment_note: long (nullable = true)\n",
      " |-- compliment_photos: long (nullable = true)\n",
      " |-- compliment_plain: long (nullable = true)\n",
      " |-- compliment_profile: long (nullable = true)\n",
      " |-- compliment_writer: long (nullable = true)\n",
      " |-- cool: long (nullable = true)\n",
      " |-- fans: long (nullable = true)\n",
      " |-- funny: long (nullable = true)\n",
      " |-- name: string (nullable = true)\n",
      " |-- review_count: long (nullable = true)\n",
      " |-- useful: long (nullable = true)\n",
      " |-- user_id: string (nullable = true)\n",
      " |-- yelping_since: timestamp (nullable = true)\n",
      "\n",
      "example: [Row(average_stars=4.03, compliment_cool=1, compliment_cute=0, compliment_funny=1, compliment_hot=2, compliment_list=0, compliment_more=0, compliment_note=1, compliment_photos=0, compliment_plain=1, compliment_profile=0, compliment_writer=2, cool=25, fans=5, funny=17, name='Rashmi', review_count=95, useful=84, user_id='l6BmjZMeQD3rDxWUbiAiow', yelping_since=datetime.datetime(2013, 10, 8, 23, 11, 33))]"
     ]
    }
   ],
   "source": [
    "describe(users_df)"
   ]
  },
  {
   "cell_type": "code",
   "execution_count": 157,
   "metadata": {},
   "outputs": [
    {
     "data": {
      "application/vnd.jupyter.widget-view+json": {
       "model_id": "f4cfbff6da794010a44a13a66e7e6f49",
       "version_major": 2,
       "version_minor": 0
      },
      "text/plain": [
       "VBox()"
      ]
     },
     "metadata": {},
     "output_type": "display_data"
    }
   ],
   "source": [
    "write_parquet(users_df, users_path)"
   ]
  },
  {
   "cell_type": "markdown",
   "metadata": {},
   "source": [
    "## elite_years"
   ]
  },
  {
   "cell_type": "code",
   "execution_count": 72,
   "metadata": {},
   "outputs": [
    {
     "data": {
      "application/vnd.jupyter.widget-view+json": {
       "model_id": "71b5bcf801e44551b79f529abcf91807",
       "version_major": 2,
       "version_minor": 0
      },
      "text/plain": [
       "VBox()"
      ]
     },
     "metadata": {},
     "output_type": "display_data"
    }
   ],
   "source": [
    "elite_years_df = user_df.select(\"user_id\", \"elite\")\\\n",
    "    .withColumn(\"year\", F.explode(F.split(F.col(\"elite\"), \",\")))\\\n",
    "    .where(\"year != '' and year is not null\")\\\n",
    "    .select(F.col(\"user_id\"), F.col(\"year\").cast(\"integer\"))"
   ]
  },
  {
   "cell_type": "code",
   "execution_count": 73,
   "metadata": {},
   "outputs": [
    {
     "data": {
      "application/vnd.jupyter.widget-view+json": {
       "model_id": "7f7cd439cb774cd9ba7c37e27b44696b",
       "version_major": 2,
       "version_minor": 0
      },
      "text/plain": [
       "VBox()"
      ]
     },
     "metadata": {},
     "output_type": "display_data"
    },
    {
     "name": "stdout",
     "output_type": "stream",
     "text": [
      "nulls: [Row(user_id=0, year=0)]\n",
      "count: 224499\n",
      "schema:\n",
      "root\n",
      " |-- user_id: string (nullable = true)\n",
      " |-- year: integer (nullable = true)\n",
      "\n",
      "example: [Row(user_id='l6BmjZMeQD3rDxWUbiAiow', year=2015)]"
     ]
    }
   ],
   "source": [
    "describe(elite_years_df)"
   ]
  },
  {
   "cell_type": "code",
   "execution_count": 74,
   "metadata": {},
   "outputs": [
    {
     "data": {
      "application/vnd.jupyter.widget-view+json": {
       "model_id": "f0ec6be9d49647f2af44413aa344c606",
       "version_major": 2,
       "version_minor": 0
      },
      "text/plain": [
       "VBox()"
      ]
     },
     "metadata": {},
     "output_type": "display_data"
    }
   ],
   "source": [
    "write_parquet(elite_years_df, elite_years_path)"
   ]
  },
  {
   "cell_type": "markdown",
   "metadata": {},
   "source": [
    "## friends"
   ]
  },
  {
   "cell_type": "code",
   "execution_count": 75,
   "metadata": {},
   "outputs": [
    {
     "data": {
      "application/vnd.jupyter.widget-view+json": {
       "model_id": "250a4c046a0849c0a8f4c9a2017a4f8e",
       "version_major": 2,
       "version_minor": 0
      },
      "text/plain": [
       "VBox()"
      ]
     },
     "metadata": {},
     "output_type": "display_data"
    }
   ],
   "source": [
    "friends_df = user_df.select(\"user_id\", \"friends\")\\\n",
    "    .withColumn(\"friend_id\", F.explode(F.split(F.col(\"friends\"), \", \")))\\\n",
    "    .where(\"friend_id != '' and friend_id is not null\")\\\n",
    "    .select(F.col(\"user_id\"), F.col(\"friend_id\"))\\\n",
    "    .distinct()"
   ]
  },
  {
   "cell_type": "code",
   "execution_count": 76,
   "metadata": {},
   "outputs": [
    {
     "data": {
      "application/vnd.jupyter.widget-view+json": {
       "model_id": "c3c7391ed05143f28b36fe21e53d1fba",
       "version_major": 2,
       "version_minor": 0
      },
      "text/plain": [
       "VBox()"
      ]
     },
     "metadata": {},
     "output_type": "display_data"
    },
    {
     "name": "stdout",
     "output_type": "stream",
     "text": [
      "nulls: [Row(user_id=0, friend_id=0)]\n",
      "count: 75531114\n",
      "schema:\n",
      "root\n",
      " |-- user_id: string (nullable = true)\n",
      " |-- friend_id: string (nullable = true)\n",
      "\n",
      "example: [Row(user_id='l6BmjZMeQD3rDxWUbiAiow', friend_id='wMpFA46lihK8oFns_5p65A')]"
     ]
    }
   ],
   "source": [
    "describe(friends_df)"
   ]
  },
  {
   "cell_type": "code",
   "execution_count": 77,
   "metadata": {},
   "outputs": [
    {
     "data": {
      "application/vnd.jupyter.widget-view+json": {
       "model_id": "1df53ba3db234adcb0f1075ee7eee964",
       "version_major": 2,
       "version_minor": 0
      },
      "text/plain": [
       "VBox()"
      ]
     },
     "metadata": {},
     "output_type": "display_data"
    }
   ],
   "source": [
    "write_parquet(friends_df, friends_path)"
   ]
  },
  {
   "cell_type": "markdown",
   "metadata": {},
   "source": [
    "# checkin tables"
   ]
  },
  {
   "cell_type": "code",
   "execution_count": 78,
   "metadata": {},
   "outputs": [
    {
     "data": {
      "application/vnd.jupyter.widget-view+json": {
       "model_id": "4e89127425fb405380b5e0066fe00141",
       "version_major": 2,
       "version_minor": 0
      },
      "text/plain": [
       "VBox()"
      ]
     },
     "metadata": {},
     "output_type": "display_data"
    }
   ],
   "source": [
    "checkin_df = spark.read.json(checkin_path)"
   ]
  },
  {
   "cell_type": "code",
   "execution_count": 79,
   "metadata": {},
   "outputs": [
    {
     "data": {
      "application/vnd.jupyter.widget-view+json": {
       "model_id": "242fb7c154a34e07b887f0fb7c429492",
       "version_major": 2,
       "version_minor": 0
      },
      "text/plain": [
       "VBox()"
      ]
     },
     "metadata": {},
     "output_type": "display_data"
    },
    {
     "name": "stdout",
     "output_type": "stream",
     "text": [
      "nulls: [Row(business_id=0, date=0)]\n",
      "count: 161950\n",
      "schema:\n",
      "root\n",
      " |-- business_id: string (nullable = true)\n",
      " |-- date: string (nullable = true)\n",
      "\n",
      "example: [Row(business_id='--1UhMGODdWsrMastO9DZw', date='2016-04-26 19:49:16, 2016-08-30 18:36:57, 2016-10-15 02:45:18, 2016-11-18 01:54:50, 2017-04-20 18:39:06, 2017-05-03 17:58:02')]"
     ]
    }
   ],
   "source": [
    "describe(checkin_df)"
   ]
  },
  {
   "cell_type": "markdown",
   "metadata": {},
   "source": [
    "## checkins"
   ]
  },
  {
   "cell_type": "code",
   "execution_count": 165,
   "metadata": {},
   "outputs": [
    {
     "data": {
      "application/vnd.jupyter.widget-view+json": {
       "model_id": "7e796da211ba4c0f841f42a5e797b876",
       "version_major": 2,
       "version_minor": 0
      },
      "text/plain": [
       "VBox()"
      ]
     },
     "metadata": {},
     "output_type": "display_data"
    }
   ],
   "source": [
    "checkins_df = checkin_df.selectExpr(\"business_id\", \"date as ts\")\\\n",
    "    .withColumn(\"ts\", F.explode(F.split(F.col(\"ts\"), \", \")))\\\n",
    "    .where(\"ts != '' and ts is not null\")\\\n",
    "    .withColumn(\"ts\", F.to_timestamp(\"ts\"))"
   ]
  },
  {
   "cell_type": "code",
   "execution_count": 166,
   "metadata": {},
   "outputs": [
    {
     "data": {
      "application/vnd.jupyter.widget-view+json": {
       "model_id": "97f9f5e488f444ac85ff6289098f2ed4",
       "version_major": 2,
       "version_minor": 0
      },
      "text/plain": [
       "VBox()"
      ]
     },
     "metadata": {},
     "output_type": "display_data"
    },
    {
     "name": "stdout",
     "output_type": "stream",
     "text": [
      "nulls: [Row(business_id=0, ts=0)]\n",
      "count: 19089148\n",
      "schema:\n",
      "root\n",
      " |-- business_id: string (nullable = true)\n",
      " |-- ts: timestamp (nullable = true)\n",
      "\n",
      "example: [Row(business_id='--1UhMGODdWsrMastO9DZw', ts=datetime.datetime(2016, 4, 26, 19, 49, 16))]"
     ]
    }
   ],
   "source": [
    "describe(checkins_df)"
   ]
  },
  {
   "cell_type": "code",
   "execution_count": 167,
   "metadata": {},
   "outputs": [
    {
     "data": {
      "application/vnd.jupyter.widget-view+json": {
       "model_id": "381b132f489645f3bb96de4693ccaaff",
       "version_major": 2,
       "version_minor": 0
      },
      "text/plain": [
       "VBox()"
      ]
     },
     "metadata": {},
     "output_type": "display_data"
    }
   ],
   "source": [
    "write_parquet(checkins_df, checkins_path)"
   ]
  },
  {
   "cell_type": "markdown",
   "metadata": {},
   "source": [
    "# tip tables"
   ]
  },
  {
   "cell_type": "code",
   "execution_count": 83,
   "metadata": {},
   "outputs": [
    {
     "data": {
      "application/vnd.jupyter.widget-view+json": {
       "model_id": "0001d2fb93464671ad3ac79b67d1fecf",
       "version_major": 2,
       "version_minor": 0
      },
      "text/plain": [
       "VBox()"
      ]
     },
     "metadata": {},
     "output_type": "display_data"
    }
   ],
   "source": [
    "tip_df = spark.read.json(tip_path)"
   ]
  },
  {
   "cell_type": "code",
   "execution_count": 84,
   "metadata": {},
   "outputs": [
    {
     "data": {
      "application/vnd.jupyter.widget-view+json": {
       "model_id": "88e906185dba4f0cbb812cb6eb43f410",
       "version_major": 2,
       "version_minor": 0
      },
      "text/plain": [
       "VBox()"
      ]
     },
     "metadata": {},
     "output_type": "display_data"
    },
    {
     "name": "stdout",
     "output_type": "stream",
     "text": [
      "nulls: [Row(business_id=0, compliment_count=0, date=0, text=0, user_id=0)]\n",
      "count: 1223094\n",
      "schema:\n",
      "root\n",
      " |-- business_id: string (nullable = true)\n",
      " |-- compliment_count: long (nullable = true)\n",
      " |-- date: string (nullable = true)\n",
      " |-- text: string (nullable = true)\n",
      " |-- user_id: string (nullable = true)\n",
      "\n",
      "example: [Row(business_id='VaKXUpmWTTWDKbpJ3aQdMw', compliment_count=0, date='2014-03-27 03:51:24', text='Great for watching games, ufc, and whatever else tickles yer fancy', user_id='UPw5DWs_b-e2JRBS-t37Ag')]"
     ]
    }
   ],
   "source": [
    "describe(tip_df)"
   ]
  },
  {
   "cell_type": "markdown",
   "metadata": {},
   "source": [
    "## tips"
   ]
  },
  {
   "cell_type": "code",
   "execution_count": 162,
   "metadata": {},
   "outputs": [
    {
     "data": {
      "application/vnd.jupyter.widget-view+json": {
       "model_id": "a2c830dd1eab4dbb95769b03884af2d6",
       "version_major": 2,
       "version_minor": 0
      },
      "text/plain": [
       "VBox()"
      ]
     },
     "metadata": {},
     "output_type": "display_data"
    }
   ],
   "source": [
    "tips_df = tip_df.withColumnRenamed(\"date\", \"ts\")\\\n",
    "    .withColumn(\"ts\", F.to_timestamp(\"ts\"))\\\n",
    "    .withColumn(\"tip_id\", F.monotonically_increasing_id())"
   ]
  },
  {
   "cell_type": "code",
   "execution_count": 163,
   "metadata": {},
   "outputs": [
    {
     "data": {
      "application/vnd.jupyter.widget-view+json": {
       "model_id": "5f6f0050e8114ac8aa65ea16d9746077",
       "version_major": 2,
       "version_minor": 0
      },
      "text/plain": [
       "VBox()"
      ]
     },
     "metadata": {},
     "output_type": "display_data"
    },
    {
     "name": "stdout",
     "output_type": "stream",
     "text": [
      "nulls: [Row(business_id=0, compliment_count=0, ts=0, text=0, user_id=0, tip_id=0)]\n",
      "count: 1223094\n",
      "schema:\n",
      "root\n",
      " |-- business_id: string (nullable = true)\n",
      " |-- compliment_count: long (nullable = true)\n",
      " |-- ts: timestamp (nullable = true)\n",
      " |-- text: string (nullable = true)\n",
      " |-- user_id: string (nullable = true)\n",
      " |-- tip_id: long (nullable = false)\n",
      "\n",
      "example: [Row(business_id='VaKXUpmWTTWDKbpJ3aQdMw', compliment_count=0, ts=datetime.datetime(2014, 3, 27, 3, 51, 24), text='Great for watching games, ufc, and whatever else tickles yer fancy', user_id='UPw5DWs_b-e2JRBS-t37Ag', tip_id=0)]"
     ]
    }
   ],
   "source": [
    "describe(tips_df)"
   ]
  },
  {
   "cell_type": "code",
   "execution_count": 164,
   "metadata": {},
   "outputs": [
    {
     "data": {
      "application/vnd.jupyter.widget-view+json": {
       "model_id": "d50cd554661f47a2b38b9ca6a8b3d3e5",
       "version_major": 2,
       "version_minor": 0
      },
      "text/plain": [
       "VBox()"
      ]
     },
     "metadata": {},
     "output_type": "display_data"
    }
   ],
   "source": [
    "write_parquet(tips_df, tips_path)"
   ]
  },
  {
   "cell_type": "code",
   "execution_count": 88,
   "metadata": {},
   "outputs": [
    {
     "data": {
      "application/vnd.jupyter.widget-view+json": {
       "model_id": "648602fe780d4dd8a6b3cc442a3e3530",
       "version_major": 2,
       "version_minor": 0
      },
      "text/plain": [
       "VBox()"
      ]
     },
     "metadata": {},
     "output_type": "display_data"
    },
    {
     "name": "stdout",
     "output_type": "stream",
     "text": [
      "Row(max(length(text))=500)"
     ]
    }
   ],
   "source": [
    "print(tips_df.select(\"text\").agg(F.max(F.length(\"text\"))).first())"
   ]
  },
  {
   "cell_type": "markdown",
   "metadata": {},
   "source": [
    "# photo tables"
   ]
  },
  {
   "cell_type": "code",
   "execution_count": 89,
   "metadata": {},
   "outputs": [
    {
     "data": {
      "application/vnd.jupyter.widget-view+json": {
       "model_id": "e351e01a0412428b8ae739838138a26b",
       "version_major": 2,
       "version_minor": 0
      },
      "text/plain": [
       "VBox()"
      ]
     },
     "metadata": {},
     "output_type": "display_data"
    }
   ],
   "source": [
    "photo_df = spark.read.json(photo_path)"
   ]
  },
  {
   "cell_type": "code",
   "execution_count": 90,
   "metadata": {},
   "outputs": [
    {
     "data": {
      "application/vnd.jupyter.widget-view+json": {
       "model_id": "ae785586a7a54e0f9442d9c65b316135",
       "version_major": 2,
       "version_minor": 0
      },
      "text/plain": [
       "VBox()"
      ]
     },
     "metadata": {},
     "output_type": "display_data"
    },
    {
     "name": "stdout",
     "output_type": "stream",
     "text": [
      "nulls: [Row(business_id=0, caption=0, label=0, photo_id=0)]\n",
      "count: 200000\n",
      "schema:\n",
      "root\n",
      " |-- business_id: string (nullable = true)\n",
      " |-- caption: string (nullable = true)\n",
      " |-- label: string (nullable = true)\n",
      " |-- photo_id: string (nullable = true)\n",
      "\n",
      "example: [Row(business_id='rcaPajgKOJC2vo_l3xa42A', caption='', label='inside', photo_id='MllA1nNpcp1kDteVg6OGUw')]"
     ]
    }
   ],
   "source": [
    "describe(photo_df)"
   ]
  },
  {
   "cell_type": "markdown",
   "metadata": {},
   "source": [
    "## photos"
   ]
  },
  {
   "cell_type": "code",
   "execution_count": 91,
   "metadata": {
    "scrolled": true
   },
   "outputs": [
    {
     "data": {
      "application/vnd.jupyter.widget-view+json": {
       "model_id": "6e63bdaeae5d4db685330f61d8bc2b43",
       "version_major": 2,
       "version_minor": 0
      },
      "text/plain": [
       "VBox()"
      ]
     },
     "metadata": {},
     "output_type": "display_data"
    }
   ],
   "source": [
    "write_parquet(photo_df, photos_path)"
   ]
  },
  {
   "cell_type": "code",
   "execution_count": 92,
   "metadata": {},
   "outputs": [
    {
     "data": {
      "application/vnd.jupyter.widget-view+json": {
       "model_id": "65b0c0f75bd44776a672e5f5f3e34299",
       "version_major": 2,
       "version_minor": 0
      },
      "text/plain": [
       "VBox()"
      ]
     },
     "metadata": {},
     "output_type": "display_data"
    },
    {
     "name": "stdout",
     "output_type": "stream",
     "text": [
      "Row(max(length(caption))=140)\n",
      "Row(max(length(label))=7)"
     ]
    }
   ],
   "source": [
    "print(photo_df.select(\"caption\").agg(F.max(F.length(\"caption\"))).first())\n",
    "print(photo_df.select(\"label\").agg(F.max(F.length(\"label\"))).first())"
   ]
  },
  {
   "cell_type": "markdown",
   "metadata": {},
   "source": [
    "# weather tables"
   ]
  },
  {
   "cell_type": "markdown",
   "metadata": {},
   "source": [
    "## city_attributes"
   ]
  },
  {
   "cell_type": "code",
   "execution_count": 93,
   "metadata": {},
   "outputs": [
    {
     "data": {
      "application/vnd.jupyter.widget-view+json": {
       "model_id": "71ca475490b04173885e4998a729aff1",
       "version_major": 2,
       "version_minor": 0
      },
      "text/plain": [
       "VBox()"
      ]
     },
     "metadata": {},
     "output_type": "display_data"
    }
   ],
   "source": [
    "city_attr_df = spark.read\\\n",
    "    .format('csv')\\\n",
    "    .option(\"header\", \"true\")\\\n",
    "    .option(\"delimiter\", \",\")\\\n",
    "    .load(city_attr_path)"
   ]
  },
  {
   "cell_type": "code",
   "execution_count": 94,
   "metadata": {},
   "outputs": [
    {
     "data": {
      "application/vnd.jupyter.widget-view+json": {
       "model_id": "0d8183d92e734d2f8119ba80d4e7dad9",
       "version_major": 2,
       "version_minor": 0
      },
      "text/plain": [
       "VBox()"
      ]
     },
     "metadata": {},
     "output_type": "display_data"
    },
    {
     "name": "stdout",
     "output_type": "stream",
     "text": [
      "nulls: [Row(City=0, Country=0, Latitude=0, Longitude=0)]\n",
      "count: 36\n",
      "schema:\n",
      "root\n",
      " |-- City: string (nullable = true)\n",
      " |-- Country: string (nullable = true)\n",
      " |-- Latitude: string (nullable = true)\n",
      " |-- Longitude: string (nullable = true)\n",
      "\n",
      "example: [Row(City='Vancouver', Country='Canada', Latitude='49.24966', Longitude='-123.119339')]"
     ]
    }
   ],
   "source": [
    "describe(city_attr_df)"
   ]
  },
  {
   "cell_type": "code",
   "execution_count": 95,
   "metadata": {},
   "outputs": [
    {
     "data": {
      "application/vnd.jupyter.widget-view+json": {
       "model_id": "6202bf6ff494416b8bff2265a0c22021",
       "version_major": 2,
       "version_minor": 0
      },
      "text/plain": [
       "VBox()"
      ]
     },
     "metadata": {},
     "output_type": "display_data"
    }
   ],
   "source": [
    "# We only want the list of US cities\n",
    "cities = city_attr_df.where(\"Country = 'United States'\")\\\n",
    "    .select(\"City\")\\\n",
    "    .distinct()\\\n",
    "    .rdd.flatMap(lambda x: x)\\\n",
    "    .collect()"
   ]
  },
  {
   "cell_type": "code",
   "execution_count": 96,
   "metadata": {},
   "outputs": [
    {
     "data": {
      "application/vnd.jupyter.widget-view+json": {
       "model_id": "69b7e46c108e4fe0bb3da6b0c94e93a9",
       "version_major": 2,
       "version_minor": 0
      },
      "text/plain": [
       "VBox()"
      ]
     },
     "metadata": {},
     "output_type": "display_data"
    },
    {
     "name": "stdout",
     "output_type": "stream",
     "text": [
      "['Phoenix', 'Dallas', 'San Antonio', 'Philadelphia', 'Los Angeles', 'Indianapolis', 'San Francisco', 'San Diego', 'Nashville', 'Detroit', 'Portland', 'Pittsburgh', 'Chicago', 'Atlanta', 'Las Vegas', 'Seattle', 'Kansas City', 'Saint Louis', 'Minneapolis', 'Houston', 'Jacksonville', 'Albuquerque', 'Miami', 'New York', 'Charlotte', 'Denver', 'Boston']"
     ]
    }
   ],
   "source": [
    "# The list of cities provided by the weather dataset\n",
    "cities"
   ]
  },
  {
   "cell_type": "code",
   "execution_count": 97,
   "metadata": {},
   "outputs": [
    {
     "data": {
      "application/vnd.jupyter.widget-view+json": {
       "model_id": "5c329fe601294556bbc6e46727900e1e",
       "version_major": 2,
       "version_minor": 0
      },
      "text/plain": [
       "VBox()"
      ]
     },
     "metadata": {},
     "output_type": "display_data"
    }
   ],
   "source": [
    "# Weather dataset doesn't provide us with the respective state codes though\n",
    "# How do we know whether \"Phoenix\" is in AZ or TX?\n",
    "# The most appropriate solution is finding the biggest city\n",
    "# Let's find out which of those cities are referenced in Yelp dataset and relevant to us\n",
    "\n",
    "cities_df = spark.read.parquet(cities_path)"
   ]
  },
  {
   "cell_type": "code",
   "execution_count": 150,
   "metadata": {},
   "outputs": [
    {
     "data": {
      "application/vnd.jupyter.widget-view+json": {
       "model_id": "c8f79e1f2ad749b3bfc883098a29f07e",
       "version_major": 2,
       "version_minor": 0
      },
      "text/plain": [
       "VBox()"
      ]
     },
     "metadata": {},
     "output_type": "display_data"
    },
    {
     "name": "stdout",
     "output_type": "stream",
     "text": [
      "root\n",
      " |-- city: string (nullable = true)\n",
      " |-- state_code: string (nullable = true)\n",
      " |-- number_of_veterans: long (nullable = true)\n",
      " |-- male_population: long (nullable = true)\n",
      " |-- state: string (nullable = true)\n",
      " |-- median_age: double (nullable = true)\n",
      " |-- total_population: long (nullable = true)\n",
      " |-- foreign_born: long (nullable = true)\n",
      " |-- female_population: long (nullable = true)\n",
      " |-- average_household_size: double (nullable = true)\n",
      " |-- american_indian_and_alaska_native: long (nullable = true)\n",
      " |-- asian: long (nullable = true)\n",
      " |-- black_or_african_american: long (nullable = true)\n",
      " |-- hispanic_or_latino: long (nullable = true)\n",
      " |-- white: long (nullable = true)\n",
      " |-- city_id: long (nullable = true)"
     ]
    }
   ],
   "source": [
    "cities_df.printSchema()"
   ]
  },
  {
   "cell_type": "code",
   "execution_count": 119,
   "metadata": {},
   "outputs": [
    {
     "data": {
      "application/vnd.jupyter.widget-view+json": {
       "model_id": "6e6b32c0c0fd43eb8ce933e99fe9ab93",
       "version_major": 2,
       "version_minor": 0
      },
      "text/plain": [
       "VBox()"
      ]
     },
     "metadata": {},
     "output_type": "display_data"
    },
    {
     "name": "stdout",
     "output_type": "stream",
     "text": [
      "[Row(city='Phoenix'), Row(city='Dallas'), Row(city='Los Angeles'), Row(city='San Diego'), Row(city='Pittsburgh'), Row(city='Las Vegas'), Row(city='Seattle'), Row(city='New York'), Row(city='Charlotte'), Row(city='Denver'), Row(city='Boston')]"
     ]
    }
   ],
   "source": [
    "cities_df.filter(F.col(\"city\").isin(cities))\\\n",
    "    .select(\"city\")\\\n",
    "    .distinct()\\\n",
    "    .collect()\n",
    "# Tables \"cities\" includes 11 cities out of 36 provided by the weather dataset"
   ]
  },
  {
   "cell_type": "code",
   "execution_count": 142,
   "metadata": {},
   "outputs": [
    {
     "data": {
      "application/vnd.jupyter.widget-view+json": {
       "model_id": "154f5d30b2b64b469d4b999d91ec3c20",
       "version_major": 2,
       "version_minor": 0
      },
      "text/plain": [
       "VBox()"
      ]
     },
     "metadata": {},
     "output_type": "display_data"
    }
   ],
   "source": [
    "# Now find their states (using Google or any other API)\n",
    "weather_cities_df = [\n",
    "    Row(city='Phoenix', state_code='AZ'), \n",
    "    Row(city='Dallas', state_code='TX'), \n",
    "    Row(city='Los Angeles', state_code='CA'), \n",
    "    Row(city='San Diego', state_code='CA'), \n",
    "    Row(city='Pittsburgh', state_code='PA'), \n",
    "    Row(city='Las Vegas', state_code='NV'), \n",
    "    Row(city='Seattle', state_code='WA'), \n",
    "    Row(city='New York', state_code='NY'), \n",
    "    Row(city='Charlotte', state_code='NC'), \n",
    "    Row(city='Denver', state_code='CO'), \n",
    "    Row(city='Boston', state_code='MA')\n",
    "]\n",
    "weather_cities_schema = T.StructType([\n",
    "    T.StructField(\"city\", T.StringType()),\n",
    "    T.StructField(\"state_code\", T.StringType())\n",
    "])\n",
    "weather_cities_df = spark.createDataFrame(weather_cities_df, schema=weather_cities_schema) "
   ]
  },
  {
   "cell_type": "code",
   "execution_count": 143,
   "metadata": {},
   "outputs": [
    {
     "data": {
      "application/vnd.jupyter.widget-view+json": {
       "model_id": "1f09fe6b090240c6b17d63295a567ff4",
       "version_major": 2,
       "version_minor": 0
      },
      "text/plain": [
       "VBox()"
      ]
     },
     "metadata": {},
     "output_type": "display_data"
    }
   ],
   "source": [
    "# Join with the cities dataset to find matches\n",
    "weather_cities_df = cities_df.join(weather_cities_df, [\"city\", \"state_code\"])\\\n",
    "    .select(\"city\", \"city_id\")\\\n",
    "    .distinct()"
   ]
  },
  {
   "cell_type": "markdown",
   "metadata": {},
   "source": [
    "## temperature"
   ]
  },
  {
   "cell_type": "code",
   "execution_count": 127,
   "metadata": {},
   "outputs": [
    {
     "data": {
      "application/vnd.jupyter.widget-view+json": {
       "model_id": "0787565295ad40049f3cbbdc0f5fb3dc",
       "version_major": 2,
       "version_minor": 0
      },
      "text/plain": [
       "VBox()"
      ]
     },
     "metadata": {},
     "output_type": "display_data"
    }
   ],
   "source": [
    "weather_temp_df = spark.read\\\n",
    "    .format('csv')\\\n",
    "    .option(\"header\", \"true\")\\\n",
    "    .option(\"delimiter\", \",\")\\\n",
    "    .load(weather_temp_path)"
   ]
  },
  {
   "cell_type": "code",
   "execution_count": 128,
   "metadata": {},
   "outputs": [
    {
     "data": {
      "application/vnd.jupyter.widget-view+json": {
       "model_id": "9851c992d9f04b89806cd933c8a5034d",
       "version_major": 2,
       "version_minor": 0
      },
      "text/plain": [
       "VBox()"
      ]
     },
     "metadata": {},
     "output_type": "display_data"
    },
    {
     "name": "stdout",
     "output_type": "stream",
     "text": [
      "nulls: [Row(datetime=0, Vancouver=795, Portland=1, San Francisco=793, Seattle=3, Los Angeles=3, San Diego=1, Las Vegas=1, Phoenix=3, Albuquerque=1, Denver=1, San Antonio=1, Dallas=4, Houston=3, Kansas City=1, Minneapolis=13, Saint Louis=1, Chicago=3, Nashville=2, Indianapolis=7, Atlanta=6, Detroit=1, Jacksonville=1, Charlotte=3, Miami=805, Pittsburgh=3, Toronto=1, Philadelphia=3, New York=793, Montreal=3, Boston=3, Beersheba=798, Tel Aviv District=793, Eilat=792, Haifa=798, Nahariyya=797, Jerusalem=793)]\n",
      "count: 45253\n",
      "schema:\n",
      "root\n",
      " |-- datetime: string (nullable = true)\n",
      " |-- Vancouver: string (nullable = true)\n",
      " |-- Portland: string (nullable = true)\n",
      " |-- San Francisco: string (nullable = true)\n",
      " |-- Seattle: string (nullable = true)\n",
      " |-- Los Angeles: string (nullable = true)\n",
      " |-- San Diego: string (nullable = true)\n",
      " |-- Las Vegas: string (nullable = true)\n",
      " |-- Phoenix: string (nullable = true)\n",
      " |-- Albuquerque: string (nullable = true)\n",
      " |-- Denver: string (nullable = true)\n",
      " |-- San Antonio: string (nullable = true)\n",
      " |-- Dallas: string (nullable = true)\n",
      " |-- Houston: string (nullable = true)\n",
      " |-- Kansas City: string (nullable = true)\n",
      " |-- Minneapolis: string (nullable = true)\n",
      " |-- Saint Louis: string (nullable = true)\n",
      " |-- Chicago: string (nullable = true)\n",
      " |-- Nashville: string (nullable = true)\n",
      " |-- Indianapolis: string (nullable = true)\n",
      " |-- Atlanta: string (nullable = true)\n",
      " |-- Detroit: string (nullable = true)\n",
      " |-- Jacksonville: string (nullable = true)\n",
      " |-- Charlotte: string (nullable = true)\n",
      " |-- Miami: string (nullable = true)\n",
      " |-- Pittsburgh: string (nullable = true)\n",
      " |-- Toronto: string (nullable = true)\n",
      " |-- Philadelphia: string (nullable = true)\n",
      " |-- New York: string (nullable = true)\n",
      " |-- Montreal: string (nullable = true)\n",
      " |-- Boston: string (nullable = true)\n",
      " |-- Beersheba: string (nullable = true)\n",
      " |-- Tel Aviv District: string (nullable = true)\n",
      " |-- Eilat: string (nullable = true)\n",
      " |-- Haifa: string (nullable = true)\n",
      " |-- Nahariyya: string (nullable = true)\n",
      " |-- Jerusalem: string (nullable = true)\n",
      "\n",
      "example: [Row(datetime='2012-10-01 12:00:00', Vancouver=None, Portland=None, San Francisco=None, Seattle=None, Los Angeles=None, San Diego=None, Las Vegas=None, Phoenix=None, Albuquerque=None, Denver=None, San Antonio=None, Dallas=None, Houston=None, Kansas City=None, Minneapolis=None, Saint Louis=None, Chicago=None, Nashville=None, Indianapolis=None, Atlanta=None, Detroit=None, Jacksonville=None, Charlotte=None, Miami=None, Pittsburgh=None, Toronto=None, Philadelphia=None, New York=None, Montreal=None, Boston=None, Beersheba=None, Tel Aviv District=None, Eilat='309.1', Haifa=None, Nahariyya=None, Jerusalem=None)]"
     ]
    }
   ],
   "source": [
    "describe(weather_temp_df)"
   ]
  },
  {
   "cell_type": "code",
   "execution_count": 129,
   "metadata": {},
   "outputs": [
    {
     "data": {
      "application/vnd.jupyter.widget-view+json": {
       "model_id": "88af2f068e8a472cb25ac58340c7d45a",
       "version_major": 2,
       "version_minor": 0
      },
      "text/plain": [
       "VBox()"
      ]
     },
     "metadata": {},
     "output_type": "display_data"
    }
   ],
   "source": [
    "weather_temp_df = weather_temp_df.select(\"datetime\", *cities)\\\n",
    "    .withColumn(\"date\", F.substring(\"datetime\", 0, 10))\\\n",
    "    .drop(\"datetime\")"
   ]
  },
  {
   "cell_type": "code",
   "execution_count": 130,
   "metadata": {},
   "outputs": [
    {
     "data": {
      "application/vnd.jupyter.widget-view+json": {
       "model_id": "ea66c06472534fc3a8cc7f22eb74a9f8",
       "version_major": 2,
       "version_minor": 0
      },
      "text/plain": [
       "VBox()"
      ]
     },
     "metadata": {},
     "output_type": "display_data"
    }
   ],
   "source": [
    "temp_df = None\n",
    "for city in cities:\n",
    "    # Get average temperature in Fahrenheit for each day and city\n",
    "    df = weather_temp_df.selectExpr(\"date\", f\"`{city}` as temperature\", f\"'{city}' as city\")\\\n",
    "        .groupBy(\"date\", \"city\")\\\n",
    "        .agg(F.mean(\"temperature\").alias(\"avg_temperature\"))\n",
    "    if temp_df is None:\n",
    "        temp_df = df\n",
    "    else:\n",
    "        temp_df = temp_df.union(df)\n",
    "weather_temp_df = temp_df"
   ]
  },
  {
   "cell_type": "code",
   "execution_count": 131,
   "metadata": {},
   "outputs": [
    {
     "data": {
      "application/vnd.jupyter.widget-view+json": {
       "model_id": "ff5e3d66e0e245f8949a25dea66b44bc",
       "version_major": 2,
       "version_minor": 0
      },
      "text/plain": [
       "VBox()"
      ]
     },
     "metadata": {},
     "output_type": "display_data"
    },
    {
     "name": "stdout",
     "output_type": "stream",
     "text": [
      "50949"
     ]
    }
   ],
   "source": [
    "# Speed up further joins\n",
    "weather_temp_df = weather_temp_df.repartition(1).cache()\n",
    "weather_temp_df.count()"
   ]
  },
  {
   "cell_type": "code",
   "execution_count": 132,
   "metadata": {},
   "outputs": [
    {
     "data": {
      "application/vnd.jupyter.widget-view+json": {
       "model_id": "8ff80208f2ca432089274358b5db7242",
       "version_major": 2,
       "version_minor": 0
      },
      "text/plain": [
       "VBox()"
      ]
     },
     "metadata": {},
     "output_type": "display_data"
    },
    {
     "name": "stdout",
     "output_type": "stream",
     "text": [
      "nulls: [Row(date=0, city=0, avg_temperature=99)]\n",
      "count: 50949\n",
      "schema:\n",
      "root\n",
      " |-- date: string (nullable = true)\n",
      " |-- city: string (nullable = false)\n",
      " |-- avg_temperature: double (nullable = true)\n",
      "\n",
      "example: [Row(date='2013-09-10', city='Phoenix', avg_temperature=297.9496805555417)]"
     ]
    }
   ],
   "source": [
    "describe(weather_temp_df)"
   ]
  },
  {
   "cell_type": "markdown",
   "metadata": {},
   "source": [
    "## weather_description"
   ]
  },
  {
   "cell_type": "code",
   "execution_count": 133,
   "metadata": {},
   "outputs": [
    {
     "data": {
      "application/vnd.jupyter.widget-view+json": {
       "model_id": "a64cc17664a0482f93ead9d0fe469059",
       "version_major": 2,
       "version_minor": 0
      },
      "text/plain": [
       "VBox()"
      ]
     },
     "metadata": {},
     "output_type": "display_data"
    }
   ],
   "source": [
    "weather_desc_df = spark.read\\\n",
    "    .format('csv')\\\n",
    "    .option(\"header\", \"true\")\\\n",
    "    .option(\"delimiter\", \",\")\\\n",
    "    .load(weather_desc_path)"
   ]
  },
  {
   "cell_type": "code",
   "execution_count": 134,
   "metadata": {},
   "outputs": [
    {
     "data": {
      "application/vnd.jupyter.widget-view+json": {
       "model_id": "78438f199791459c8517795fed88edea",
       "version_major": 2,
       "version_minor": 0
      },
      "text/plain": [
       "VBox()"
      ]
     },
     "metadata": {},
     "output_type": "display_data"
    },
    {
     "name": "stdout",
     "output_type": "stream",
     "text": [
      "nulls: [Row(datetime=0, Vancouver=793, Portland=1, San Francisco=793, Seattle=1, Los Angeles=1, San Diego=1, Las Vegas=1, Phoenix=1, Albuquerque=1, Denver=1, San Antonio=1, Dallas=1, Houston=1, Kansas City=1, Minneapolis=1, Saint Louis=1, Chicago=1, Nashville=1, Indianapolis=1, Atlanta=1, Detroit=1, Jacksonville=1, Charlotte=1, Miami=793, Pittsburgh=1, Toronto=1, Philadelphia=1, New York=793, Montreal=1, Boston=1, Beersheba=793, Tel Aviv District=793, Eilat=792, Haifa=793, Nahariyya=793, Jerusalem=793)]\n",
      "count: 45253\n",
      "schema:\n",
      "root\n",
      " |-- datetime: string (nullable = true)\n",
      " |-- Vancouver: string (nullable = true)\n",
      " |-- Portland: string (nullable = true)\n",
      " |-- San Francisco: string (nullable = true)\n",
      " |-- Seattle: string (nullable = true)\n",
      " |-- Los Angeles: string (nullable = true)\n",
      " |-- San Diego: string (nullable = true)\n",
      " |-- Las Vegas: string (nullable = true)\n",
      " |-- Phoenix: string (nullable = true)\n",
      " |-- Albuquerque: string (nullable = true)\n",
      " |-- Denver: string (nullable = true)\n",
      " |-- San Antonio: string (nullable = true)\n",
      " |-- Dallas: string (nullable = true)\n",
      " |-- Houston: string (nullable = true)\n",
      " |-- Kansas City: string (nullable = true)\n",
      " |-- Minneapolis: string (nullable = true)\n",
      " |-- Saint Louis: string (nullable = true)\n",
      " |-- Chicago: string (nullable = true)\n",
      " |-- Nashville: string (nullable = true)\n",
      " |-- Indianapolis: string (nullable = true)\n",
      " |-- Atlanta: string (nullable = true)\n",
      " |-- Detroit: string (nullable = true)\n",
      " |-- Jacksonville: string (nullable = true)\n",
      " |-- Charlotte: string (nullable = true)\n",
      " |-- Miami: string (nullable = true)\n",
      " |-- Pittsburgh: string (nullable = true)\n",
      " |-- Toronto: string (nullable = true)\n",
      " |-- Philadelphia: string (nullable = true)\n",
      " |-- New York: string (nullable = true)\n",
      " |-- Montreal: string (nullable = true)\n",
      " |-- Boston: string (nullable = true)\n",
      " |-- Beersheba: string (nullable = true)\n",
      " |-- Tel Aviv District: string (nullable = true)\n",
      " |-- Eilat: string (nullable = true)\n",
      " |-- Haifa: string (nullable = true)\n",
      " |-- Nahariyya: string (nullable = true)\n",
      " |-- Jerusalem: string (nullable = true)\n",
      "\n",
      "example: [Row(datetime='2012-10-01 12:00:00', Vancouver=None, Portland=None, San Francisco=None, Seattle=None, Los Angeles=None, San Diego=None, Las Vegas=None, Phoenix=None, Albuquerque=None, Denver=None, San Antonio=None, Dallas=None, Houston=None, Kansas City=None, Minneapolis=None, Saint Louis=None, Chicago=None, Nashville=None, Indianapolis=None, Atlanta=None, Detroit=None, Jacksonville=None, Charlotte=None, Miami=None, Pittsburgh=None, Toronto=None, Philadelphia=None, New York=None, Montreal=None, Boston=None, Beersheba=None, Tel Aviv District=None, Eilat='haze', Haifa=None, Nahariyya=None, Jerusalem=None)]"
     ]
    }
   ],
   "source": [
    "describe(weather_desc_df)"
   ]
  },
  {
   "cell_type": "code",
   "execution_count": 135,
   "metadata": {},
   "outputs": [
    {
     "data": {
      "application/vnd.jupyter.widget-view+json": {
       "model_id": "b683c47b2ffc4adf872b1e330ebffb93",
       "version_major": 2,
       "version_minor": 0
      },
      "text/plain": [
       "VBox()"
      ]
     },
     "metadata": {},
     "output_type": "display_data"
    }
   ],
   "source": [
    "weather_desc_df = weather_desc_df.select(\"datetime\", *cities)\\\n",
    "    .withColumn(\"date\", F.substring(\"datetime\", 0, 10))\\\n",
    "    .drop(\"datetime\")"
   ]
  },
  {
   "cell_type": "code",
   "execution_count": 136,
   "metadata": {},
   "outputs": [
    {
     "data": {
      "application/vnd.jupyter.widget-view+json": {
       "model_id": "d10c2d8cde1d42958c168030a6d4f7d7",
       "version_major": 2,
       "version_minor": 0
      },
      "text/plain": [
       "VBox()"
      ]
     },
     "metadata": {},
     "output_type": "display_data"
    }
   ],
   "source": [
    "temp_df = None\n",
    "for city in cities:\n",
    "    # Get the most frequent description for each day and city\n",
    "    window = Window.partitionBy(\"date\", \"city\").orderBy(F.desc(\"count\"))\n",
    "    df = weather_desc_df.selectExpr(\"date\", f\"`{city}` as weather_description\", f\"'{city}' as city\")\\\n",
    "        .groupBy(\"date\", \"city\", \"weather_description\")\\\n",
    "        .count()\\\n",
    "        .withColumn(\"order\", F.row_number().over(window))\\\n",
    "        .where(F.col(\"order\") == 1)\\\n",
    "        .drop(\"count\", \"order\")\n",
    "    if temp_df is None:\n",
    "        temp_df = df\n",
    "    else:\n",
    "        temp_df = temp_df.union(df)\n",
    "weather_desc_df = temp_df"
   ]
  },
  {
   "cell_type": "code",
   "execution_count": 137,
   "metadata": {},
   "outputs": [
    {
     "data": {
      "application/vnd.jupyter.widget-view+json": {
       "model_id": "96afdbc6b67444e293abc6f689dba1c9",
       "version_major": 2,
       "version_minor": 0
      },
      "text/plain": [
       "VBox()"
      ]
     },
     "metadata": {},
     "output_type": "display_data"
    },
    {
     "name": "stdout",
     "output_type": "stream",
     "text": [
      "50949"
     ]
    }
   ],
   "source": [
    "# Speed up further joins\n",
    "weather_desc_df = weather_desc_df.repartition(1).cache()\n",
    "weather_desc_df.count()"
   ]
  },
  {
   "cell_type": "code",
   "execution_count": 138,
   "metadata": {},
   "outputs": [
    {
     "data": {
      "application/vnd.jupyter.widget-view+json": {
       "model_id": "dcac1c50fab248c08e60a946339ab739",
       "version_major": 2,
       "version_minor": 0
      },
      "text/plain": [
       "VBox()"
      ]
     },
     "metadata": {},
     "output_type": "display_data"
    },
    {
     "name": "stdout",
     "output_type": "stream",
     "text": [
      "nulls: [Row(date=0, city=0, weather_description=102)]\n",
      "count: 50949\n",
      "schema:\n",
      "root\n",
      " |-- date: string (nullable = true)\n",
      " |-- city: string (nullable = false)\n",
      " |-- weather_description: string (nullable = true)\n",
      "\n",
      "example: [Row(date='2013-09-10', city='Phoenix', weather_description='light rain')]"
     ]
    }
   ],
   "source": [
    "describe(weather_desc_df)"
   ]
  },
  {
   "cell_type": "markdown",
   "metadata": {},
   "source": [
    "## city_weather"
   ]
  },
  {
   "cell_type": "code",
   "execution_count": 169,
   "metadata": {},
   "outputs": [
    {
     "data": {
      "application/vnd.jupyter.widget-view+json": {
       "model_id": "c1d437aa193f4388a7119bf4879ad55b",
       "version_major": 2,
       "version_minor": 0
      },
      "text/plain": [
       "VBox()"
      ]
     },
     "metadata": {},
     "output_type": "display_data"
    }
   ],
   "source": [
    "# What was the weather in the city when the particular review was posted?\n",
    "# Join weather description with temperature, and keep only city ids which are present in Yelp\n",
    "city_weather_df = weather_temp_df.join(weather_desc_df, [\"city\", \"date\"])\\\n",
    "    .join(weather_cities_df, \"city\")\\\n",
    "    .drop(\"city\")\\\n",
    "    .distinct()\\\n",
    "    .withColumn(\"date\", F.to_date(\"date\"))"
   ]
  },
  {
   "cell_type": "code",
   "execution_count": 170,
   "metadata": {},
   "outputs": [
    {
     "data": {
      "application/vnd.jupyter.widget-view+json": {
       "model_id": "13c12385d17c4201825e62bc453df7db",
       "version_major": 2,
       "version_minor": 0
      },
      "text/plain": [
       "VBox()"
      ]
     },
     "metadata": {},
     "output_type": "display_data"
    },
    {
     "name": "stdout",
     "output_type": "stream",
     "text": [
      "nulls: [Row(date=0, avg_temperature=33, weather_description=34, city_id=0)]\n",
      "count: 15096\n",
      "schema:\n",
      "root\n",
      " |-- date: date (nullable = true)\n",
      " |-- avg_temperature: double (nullable = true)\n",
      " |-- weather_description: string (nullable = true)\n",
      " |-- city_id: long (nullable = true)\n",
      "\n",
      "example: [Row(date=datetime.date(2013, 11, 23), avg_temperature=285.16625, weather_description='sky is clear', city_id=146028888064)]"
     ]
    }
   ],
   "source": [
    "describe(city_weather_df)"
   ]
  },
  {
   "cell_type": "code",
   "execution_count": 171,
   "metadata": {},
   "outputs": [
    {
     "data": {
      "application/vnd.jupyter.widget-view+json": {
       "model_id": "4ca636ec185f4ee2957bbba200e11a6b",
       "version_major": 2,
       "version_minor": 0
      },
      "text/plain": [
       "VBox()"
      ]
     },
     "metadata": {},
     "output_type": "display_data"
    }
   ],
   "source": [
    "write_parquet(city_weather_df, city_weather_path)"
   ]
  },
  {
   "cell_type": "code",
   "execution_count": 149,
   "metadata": {},
   "outputs": [
    {
     "data": {
      "application/vnd.jupyter.widget-view+json": {
       "model_id": "1ed984d11ba14a40b65bd7d2fed19f23",
       "version_major": 2,
       "version_minor": 0
      },
      "text/plain": [
       "VBox()"
      ]
     },
     "metadata": {},
     "output_type": "display_data"
    },
    {
     "name": "stdout",
     "output_type": "stream",
     "text": [
      "Row(max(length(weather_description))=23)"
     ]
    }
   ],
   "source": [
    "print(city_weather_df.select(\"weather_description\").agg(F.max(F.length(\"weather_description\"))).first())"
   ]
  },
  {
   "cell_type": "code",
   "execution_count": null,
   "metadata": {},
   "outputs": [],
   "source": []
  }
 ],
 "metadata": {
  "kernelspec": {
   "display_name": "Python 3",
   "language": "python",
   "name": "python3"
  },
  "language_info": {
   "codemirror_mode": {
    "name": "ipython",
    "version": 3
   },
   "file_extension": ".py",
   "mimetype": "text/x-python",
   "name": "python",
   "nbconvert_exporter": "python",
   "pygments_lexer": "ipython3",
   "version": "3.7.3"
  }
 },
 "nbformat": 4,
 "nbformat_minor": 4
}
