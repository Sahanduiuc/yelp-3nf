{
 "cells": [
  {
   "cell_type": "code",
   "execution_count": 1,
   "metadata": {},
   "outputs": [],
   "source": [
    "import boto3"
   ]
  },
  {
   "cell_type": "code",
   "execution_count": 2,
   "metadata": {},
   "outputs": [],
   "source": [
    "import configparser\n",
    "config = configparser.ConfigParser()\n",
    "config.read_file(open('dwh.cfg'))\n",
    "\n",
    "# Load params from configuration file\n",
    "KEY                    = config.get('AWS', 'KEY')\n",
    "SECRET                 = config.get('AWS', 'SECRET')\n",
    "DWH_CLUSTER_IDENTIFIER = config.get(\"DWH\", \"DWH_CLUSTER_IDENTIFIER\")\n",
    "DWH_IAM_ROLE_NAME      = config.get(\"DWH\", \"DWH_IAM_ROLE_NAME\")"
   ]
  },
  {
   "cell_type": "code",
   "execution_count": 3,
   "metadata": {},
   "outputs": [],
   "source": [
    "# Create clients\n",
    "iam = boto3.client(\n",
    "    'iam',aws_access_key_id=KEY,\n",
    "    aws_secret_access_key=SECRET,\n",
    "    region_name='us-west-2'\n",
    ")\n",
    "redshift = boto3.client(\n",
    "    'redshift',\n",
    "    region_name=\"us-west-2\",\n",
    "    aws_access_key_id=KEY,\n",
    "    aws_secret_access_key=SECRET\n",
    ")"
   ]
  },
  {
   "cell_type": "code",
   "execution_count": 4,
   "metadata": {},
   "outputs": [
    {
     "data": {
      "text/plain": [
       "{'Cluster': {'ClusterIdentifier': 'dwhcluster',\n",
       "  'NodeType': 'dc2.large',\n",
       "  'ClusterStatus': 'deleting',\n",
       "  'ClusterAvailabilityStatus': 'Modifying',\n",
       "  'MasterUsername': 'dwhuser',\n",
       "  'DBName': 'dwh',\n",
       "  'Endpoint': {'Address': 'dwhcluster.ccg25xgqwmck.us-west-2.redshift.amazonaws.com',\n",
       "   'Port': 5439},\n",
       "  'ClusterCreateTime': datetime.datetime(2019, 8, 15, 13, 55, 43, 644000, tzinfo=tzutc()),\n",
       "  'AutomatedSnapshotRetentionPeriod': 1,\n",
       "  'ManualSnapshotRetentionPeriod': -1,\n",
       "  'ClusterSecurityGroups': [],\n",
       "  'VpcSecurityGroups': [{'VpcSecurityGroupId': 'sg-b575adfb',\n",
       "    'Status': 'active'}],\n",
       "  'ClusterParameterGroups': [{'ParameterGroupName': 'default.redshift-1.0',\n",
       "    'ParameterApplyStatus': 'in-sync'}],\n",
       "  'ClusterSubnetGroupName': 'default',\n",
       "  'VpcId': 'vpc-cdb609b5',\n",
       "  'AvailabilityZone': 'us-west-2a',\n",
       "  'PreferredMaintenanceWindow': 'fri:12:30-fri:13:00',\n",
       "  'PendingModifiedValues': {},\n",
       "  'ClusterVersion': '1.0',\n",
       "  'AllowVersionUpgrade': True,\n",
       "  'NumberOfNodes': 1,\n",
       "  'PubliclyAccessible': True,\n",
       "  'Encrypted': False,\n",
       "  'Tags': [],\n",
       "  'EnhancedVpcRouting': False,\n",
       "  'IamRoles': [{'IamRoleArn': 'arn:aws:iam::953225455667:role/dwhRole',\n",
       "    'ApplyStatus': 'in-sync'}],\n",
       "  'MaintenanceTrackName': 'current',\n",
       "  'DeferredMaintenanceWindows': []},\n",
       " 'ResponseMetadata': {'RequestId': '62e1df4a-bf8b-11e9-8b6c-9f15ef481c1e',\n",
       "  'HTTPStatusCode': 200,\n",
       "  'HTTPHeaders': {'x-amzn-requestid': '62e1df4a-bf8b-11e9-8b6c-9f15ef481c1e',\n",
       "   'content-type': 'text/xml',\n",
       "   'content-length': '2290',\n",
       "   'vary': 'Accept-Encoding',\n",
       "   'date': 'Thu, 15 Aug 2019 18:34:58 GMT'},\n",
       "  'RetryAttempts': 0}}"
      ]
     },
     "execution_count": 4,
     "metadata": {},
     "output_type": "execute_result"
    }
   ],
   "source": [
    "redshift.delete_cluster(ClusterIdentifier=DWH_CLUSTER_IDENTIFIER, SkipFinalClusterSnapshot=True)"
   ]
  },
  {
   "cell_type": "code",
   "execution_count": 5,
   "metadata": {},
   "outputs": [
    {
     "data": {
      "text/plain": [
       "{'ClusterIdentifier': 'dwhcluster',\n",
       " 'NodeType': 'dc2.large',\n",
       " 'ClusterStatus': 'deleting',\n",
       " 'ClusterAvailabilityStatus': 'Modifying',\n",
       " 'MasterUsername': 'dwhuser',\n",
       " 'DBName': 'dwh',\n",
       " 'Endpoint': {'Address': 'dwhcluster.ccg25xgqwmck.us-west-2.redshift.amazonaws.com',\n",
       "  'Port': 5439},\n",
       " 'ClusterCreateTime': datetime.datetime(2019, 8, 15, 13, 55, 43, 644000, tzinfo=tzutc()),\n",
       " 'AutomatedSnapshotRetentionPeriod': 1,\n",
       " 'ManualSnapshotRetentionPeriod': -1,\n",
       " 'ClusterSecurityGroups': [],\n",
       " 'VpcSecurityGroups': [{'VpcSecurityGroupId': 'sg-b575adfb',\n",
       "   'Status': 'active'}],\n",
       " 'ClusterParameterGroups': [{'ParameterGroupName': 'default.redshift-1.0',\n",
       "   'ParameterApplyStatus': 'in-sync'}],\n",
       " 'ClusterSubnetGroupName': 'default',\n",
       " 'VpcId': 'vpc-cdb609b5',\n",
       " 'AvailabilityZone': 'us-west-2a',\n",
       " 'PreferredMaintenanceWindow': 'fri:12:30-fri:13:00',\n",
       " 'PendingModifiedValues': {},\n",
       " 'ClusterVersion': '1.0',\n",
       " 'AllowVersionUpgrade': True,\n",
       " 'NumberOfNodes': 1,\n",
       " 'PubliclyAccessible': True,\n",
       " 'Encrypted': False,\n",
       " 'ClusterPublicKey': 'ssh-rsa AAAAB3NzaC1yc2EAAAADAQABAAABAQCgQfetHFfXAVXfOf3RgtYlxSHYdVLzkxhWH211h3LeMDnLVjdsXiQduDFSVwrR3oSzQEmAqa8LbkexmSqw5RUzouWPYKBuiptlYNLHRh8HxZZ59aMiad5LyC91Y0heLJniWfRxgvzjUweRcqqyxJdhtG5G2aCGYf7xLUzao0nPpuHqnFzt8+WN0FEECFnf1BaVXfd1IzPylnk+lWlPVyz/OE1UNbctDBUQqQX2craK2aTIDHePLJntZ/Skp4c0UjaONnoTwhEf4IED4lnzY4MV/07PDiabFO2o4lX41a0auU6BIFh/ZYOL/zyB6VPF6l/hQCppLKw8Dqhj5Mr24GJJ Amazon-Redshift\\n',\n",
       " 'ClusterNodes': [{'NodeRole': 'SHARED',\n",
       "   'PrivateIPAddress': '172.31.23.225',\n",
       "   'PublicIPAddress': '35.162.165.90'}],\n",
       " 'ClusterRevisionNumber': '9041',\n",
       " 'Tags': [],\n",
       " 'EnhancedVpcRouting': False,\n",
       " 'IamRoles': [{'IamRoleArn': 'arn:aws:iam::953225455667:role/dwhRole',\n",
       "   'ApplyStatus': 'in-sync'}],\n",
       " 'MaintenanceTrackName': 'current',\n",
       " 'DeferredMaintenanceWindows': []}"
      ]
     },
     "execution_count": 5,
     "metadata": {},
     "output_type": "execute_result"
    }
   ],
   "source": [
    "redshift.describe_clusters(ClusterIdentifier=DWH_CLUSTER_IDENTIFIER)['Clusters'][0]"
   ]
  },
  {
   "cell_type": "code",
   "execution_count": 6,
   "metadata": {},
   "outputs": [
    {
     "data": {
      "text/plain": [
       "{'ResponseMetadata': {'RequestId': 'd9be23f1-bd54-11e9-b584-d392791cf985',\n",
       "  'HTTPStatusCode': 200,\n",
       "  'HTTPHeaders': {'x-amzn-requestid': 'd9be23f1-bd54-11e9-b584-d392791cf985',\n",
       "   'content-type': 'text/xml',\n",
       "   'content-length': '200',\n",
       "   'date': 'Mon, 12 Aug 2019 22:59:33 GMT'},\n",
       "  'RetryAttempts': 0}}"
      ]
     },
     "execution_count": 6,
     "metadata": {},
     "output_type": "execute_result"
    }
   ],
   "source": [
    "iam.detach_role_policy(RoleName=DWH_IAM_ROLE_NAME, PolicyArn=\"arn:aws:iam::aws:policy/AmazonS3ReadOnlyAccess\")\n",
    "iam.delete_role(RoleName=DWH_IAM_ROLE_NAME)"
   ]
  },
  {
   "cell_type": "code",
   "execution_count": null,
   "metadata": {},
   "outputs": [],
   "source": []
  }
 ],
 "metadata": {
  "kernelspec": {
   "display_name": "Python 3",
   "language": "python",
   "name": "python3"
  },
  "language_info": {
   "codemirror_mode": {
    "name": "ipython",
    "version": 3
   },
   "file_extension": ".py",
   "mimetype": "text/x-python",
   "name": "python",
   "nbconvert_exporter": "python",
   "pygments_lexer": "ipython3",
   "version": "3.7.3"
  }
 },
 "nbformat": 4,
 "nbformat_minor": 4
}
